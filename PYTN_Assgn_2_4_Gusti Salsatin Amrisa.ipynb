{
 "cells": [
  {
   "cell_type": "markdown",
   "id": "e9855756",
   "metadata": {},
   "source": [
    "## Assignment Python 2\n"
   ]
  },
  {
   "cell_type": "markdown",
   "id": "4ff69d56",
   "metadata": {},
   "source": [
    "Tugas ini bertujuan untuk bisa memahami tentang Descriptive dan Inferential Statistics dengan python.Kita juga akan menggunakan dataset tentang Data Penjualan Properti NYC yang dataset tersebut bisa diakses melalui https://www.kaggle.com/datasets/new-york-city/nyc-property-sales .Dataset ini adalah catatan dari setiap bangunan(apartemen) yang dijual dipasar properti di Kota New York selama 12 bulan dan berisi lokasi,alamat,tipe,harga jual,dan tanggal penjualan unit bangunan yang terjual."
   ]
  },
  {
   "cell_type": "markdown",
   "id": "0d636356",
   "metadata": {},
   "source": [
    "### Import Library"
   ]
  },
  {
   "cell_type": "code",
   "execution_count": 57,
   "id": "fa82c071",
   "metadata": {},
   "outputs": [],
   "source": [
    "import math\n",
    "import statistics\n",
    "import scipy.stats\n",
    "import numpy as np\n",
    "import pandas as pd\n",
    "import matplotlib.pyplot as plt\n",
    "import seaborn as sns\n",
    "import statsmodels.api as sm"
   ]
  },
  {
   "cell_type": "markdown",
   "id": "5b5edd11",
   "metadata": {},
   "source": [
    "### Import Dataset"
   ]
  },
  {
   "cell_type": "code",
   "execution_count": 3,
   "id": "98242897",
   "metadata": {},
   "outputs": [
    {
     "data": {
      "text/html": [
       "<div>\n",
       "<style scoped>\n",
       "    .dataframe tbody tr th:only-of-type {\n",
       "        vertical-align: middle;\n",
       "    }\n",
       "\n",
       "    .dataframe tbody tr th {\n",
       "        vertical-align: top;\n",
       "    }\n",
       "\n",
       "    .dataframe thead th {\n",
       "        text-align: right;\n",
       "    }\n",
       "</style>\n",
       "<table border=\"1\" class=\"dataframe\">\n",
       "  <thead>\n",
       "    <tr style=\"text-align: right;\">\n",
       "      <th></th>\n",
       "      <th>Unnamed: 0</th>\n",
       "      <th>BOROUGH</th>\n",
       "      <th>NEIGHBORHOOD</th>\n",
       "      <th>BUILDING CLASS CATEGORY</th>\n",
       "      <th>TAX CLASS AT PRESENT</th>\n",
       "      <th>BLOCK</th>\n",
       "      <th>LOT</th>\n",
       "      <th>EASE-MENT</th>\n",
       "      <th>BUILDING CLASS AT PRESENT</th>\n",
       "      <th>ADDRESS</th>\n",
       "      <th>...</th>\n",
       "      <th>RESIDENTIAL UNITS</th>\n",
       "      <th>COMMERCIAL UNITS</th>\n",
       "      <th>TOTAL UNITS</th>\n",
       "      <th>LAND SQUARE FEET</th>\n",
       "      <th>GROSS SQUARE FEET</th>\n",
       "      <th>YEAR BUILT</th>\n",
       "      <th>TAX CLASS AT TIME OF SALE</th>\n",
       "      <th>BUILDING CLASS AT TIME OF SALE</th>\n",
       "      <th>SALE PRICE</th>\n",
       "      <th>SALE DATE</th>\n",
       "    </tr>\n",
       "  </thead>\n",
       "  <tbody>\n",
       "    <tr>\n",
       "      <th>0</th>\n",
       "      <td>4</td>\n",
       "      <td>1</td>\n",
       "      <td>ALPHABET CITY</td>\n",
       "      <td>07 RENTALS - WALKUP APARTMENTS</td>\n",
       "      <td>2A</td>\n",
       "      <td>392</td>\n",
       "      <td>6</td>\n",
       "      <td></td>\n",
       "      <td>C2</td>\n",
       "      <td>153 AVENUE B</td>\n",
       "      <td>...</td>\n",
       "      <td>5</td>\n",
       "      <td>0</td>\n",
       "      <td>5</td>\n",
       "      <td>1633</td>\n",
       "      <td>6440</td>\n",
       "      <td>1900</td>\n",
       "      <td>2</td>\n",
       "      <td>C2</td>\n",
       "      <td>6625000</td>\n",
       "      <td>2017-07-19 00:00:00</td>\n",
       "    </tr>\n",
       "    <tr>\n",
       "      <th>1</th>\n",
       "      <td>5</td>\n",
       "      <td>1</td>\n",
       "      <td>ALPHABET CITY</td>\n",
       "      <td>07 RENTALS - WALKUP APARTMENTS</td>\n",
       "      <td>2</td>\n",
       "      <td>399</td>\n",
       "      <td>26</td>\n",
       "      <td></td>\n",
       "      <td>C7</td>\n",
       "      <td>234 EAST 4TH   STREET</td>\n",
       "      <td>...</td>\n",
       "      <td>28</td>\n",
       "      <td>3</td>\n",
       "      <td>31</td>\n",
       "      <td>4616</td>\n",
       "      <td>18690</td>\n",
       "      <td>1900</td>\n",
       "      <td>2</td>\n",
       "      <td>C7</td>\n",
       "      <td>-</td>\n",
       "      <td>2016-12-14 00:00:00</td>\n",
       "    </tr>\n",
       "    <tr>\n",
       "      <th>2</th>\n",
       "      <td>6</td>\n",
       "      <td>1</td>\n",
       "      <td>ALPHABET CITY</td>\n",
       "      <td>07 RENTALS - WALKUP APARTMENTS</td>\n",
       "      <td>2</td>\n",
       "      <td>399</td>\n",
       "      <td>39</td>\n",
       "      <td></td>\n",
       "      <td>C7</td>\n",
       "      <td>197 EAST 3RD   STREET</td>\n",
       "      <td>...</td>\n",
       "      <td>16</td>\n",
       "      <td>1</td>\n",
       "      <td>17</td>\n",
       "      <td>2212</td>\n",
       "      <td>7803</td>\n",
       "      <td>1900</td>\n",
       "      <td>2</td>\n",
       "      <td>C7</td>\n",
       "      <td>-</td>\n",
       "      <td>2016-12-09 00:00:00</td>\n",
       "    </tr>\n",
       "    <tr>\n",
       "      <th>3</th>\n",
       "      <td>7</td>\n",
       "      <td>1</td>\n",
       "      <td>ALPHABET CITY</td>\n",
       "      <td>07 RENTALS - WALKUP APARTMENTS</td>\n",
       "      <td>2B</td>\n",
       "      <td>402</td>\n",
       "      <td>21</td>\n",
       "      <td></td>\n",
       "      <td>C4</td>\n",
       "      <td>154 EAST 7TH STREET</td>\n",
       "      <td>...</td>\n",
       "      <td>10</td>\n",
       "      <td>0</td>\n",
       "      <td>10</td>\n",
       "      <td>2272</td>\n",
       "      <td>6794</td>\n",
       "      <td>1913</td>\n",
       "      <td>2</td>\n",
       "      <td>C4</td>\n",
       "      <td>3936272</td>\n",
       "      <td>2016-09-23 00:00:00</td>\n",
       "    </tr>\n",
       "    <tr>\n",
       "      <th>4</th>\n",
       "      <td>8</td>\n",
       "      <td>1</td>\n",
       "      <td>ALPHABET CITY</td>\n",
       "      <td>07 RENTALS - WALKUP APARTMENTS</td>\n",
       "      <td>2A</td>\n",
       "      <td>404</td>\n",
       "      <td>55</td>\n",
       "      <td></td>\n",
       "      <td>C2</td>\n",
       "      <td>301 EAST 10TH   STREET</td>\n",
       "      <td>...</td>\n",
       "      <td>6</td>\n",
       "      <td>0</td>\n",
       "      <td>6</td>\n",
       "      <td>2369</td>\n",
       "      <td>4615</td>\n",
       "      <td>1900</td>\n",
       "      <td>2</td>\n",
       "      <td>C2</td>\n",
       "      <td>8000000</td>\n",
       "      <td>2016-11-17 00:00:00</td>\n",
       "    </tr>\n",
       "  </tbody>\n",
       "</table>\n",
       "<p>5 rows × 22 columns</p>\n",
       "</div>"
      ],
      "text/plain": [
       "   Unnamed: 0  BOROUGH   NEIGHBORHOOD  \\\n",
       "0           4        1  ALPHABET CITY   \n",
       "1           5        1  ALPHABET CITY   \n",
       "2           6        1  ALPHABET CITY   \n",
       "3           7        1  ALPHABET CITY   \n",
       "4           8        1  ALPHABET CITY   \n",
       "\n",
       "                       BUILDING CLASS CATEGORY TAX CLASS AT PRESENT  BLOCK  \\\n",
       "0  07 RENTALS - WALKUP APARTMENTS                                2A    392   \n",
       "1  07 RENTALS - WALKUP APARTMENTS                                 2    399   \n",
       "2  07 RENTALS - WALKUP APARTMENTS                                 2    399   \n",
       "3  07 RENTALS - WALKUP APARTMENTS                                2B    402   \n",
       "4  07 RENTALS - WALKUP APARTMENTS                                2A    404   \n",
       "\n",
       "   LOT EASE-MENT BUILDING CLASS AT PRESENT                 ADDRESS  ...  \\\n",
       "0    6                                  C2            153 AVENUE B  ...   \n",
       "1   26                                  C7   234 EAST 4TH   STREET  ...   \n",
       "2   39                                  C7   197 EAST 3RD   STREET  ...   \n",
       "3   21                                  C4     154 EAST 7TH STREET  ...   \n",
       "4   55                                  C2  301 EAST 10TH   STREET  ...   \n",
       "\n",
       "  RESIDENTIAL UNITS  COMMERCIAL UNITS  TOTAL UNITS  LAND SQUARE FEET  \\\n",
       "0                 5                 0            5              1633   \n",
       "1                28                 3           31              4616   \n",
       "2                16                 1           17              2212   \n",
       "3                10                 0           10              2272   \n",
       "4                 6                 0            6              2369   \n",
       "\n",
       "   GROSS SQUARE FEET YEAR BUILT TAX CLASS AT TIME OF SALE  \\\n",
       "0               6440       1900                         2   \n",
       "1              18690       1900                         2   \n",
       "2               7803       1900                         2   \n",
       "3               6794       1913                         2   \n",
       "4               4615       1900                         2   \n",
       "\n",
       "   BUILDING CLASS AT TIME OF SALE  SALE PRICE            SALE DATE  \n",
       "0                              C2     6625000  2017-07-19 00:00:00  \n",
       "1                              C7         -    2016-12-14 00:00:00  \n",
       "2                              C7         -    2016-12-09 00:00:00  \n",
       "3                              C4     3936272  2016-09-23 00:00:00  \n",
       "4                              C2     8000000  2016-11-17 00:00:00  \n",
       "\n",
       "[5 rows x 22 columns]"
      ]
     },
     "execution_count": 3,
     "metadata": {},
     "output_type": "execute_result"
    }
   ],
   "source": [
    "df = pd.read_csv(\"nyc-rolling-sales.csv\")\n",
    "\n",
    "# Menampilkan data 5 teratas\n",
    "df.head()   "
   ]
  },
  {
   "cell_type": "code",
   "execution_count": 4,
   "id": "513c834e",
   "metadata": {},
   "outputs": [
    {
     "data": {
      "text/html": [
       "<div>\n",
       "<style scoped>\n",
       "    .dataframe tbody tr th:only-of-type {\n",
       "        vertical-align: middle;\n",
       "    }\n",
       "\n",
       "    .dataframe tbody tr th {\n",
       "        vertical-align: top;\n",
       "    }\n",
       "\n",
       "    .dataframe thead th {\n",
       "        text-align: right;\n",
       "    }\n",
       "</style>\n",
       "<table border=\"1\" class=\"dataframe\">\n",
       "  <thead>\n",
       "    <tr style=\"text-align: right;\">\n",
       "      <th></th>\n",
       "      <th>BOROUGH</th>\n",
       "      <th>NEIGHBORHOOD</th>\n",
       "      <th>BUILDING CLASS CATEGORY</th>\n",
       "      <th>TAX CLASS AT PRESENT</th>\n",
       "      <th>BLOCK</th>\n",
       "      <th>LOT</th>\n",
       "      <th>BUILDING CLASS AT PRESENT</th>\n",
       "      <th>ADDRESS</th>\n",
       "      <th>APARTMENT NUMBER</th>\n",
       "      <th>ZIP CODE</th>\n",
       "      <th>RESIDENTIAL UNITS</th>\n",
       "      <th>COMMERCIAL UNITS</th>\n",
       "      <th>TOTAL UNITS</th>\n",
       "      <th>LAND SQUARE FEET</th>\n",
       "      <th>GROSS SQUARE FEET</th>\n",
       "      <th>YEAR BUILT</th>\n",
       "      <th>TAX CLASS AT TIME OF SALE</th>\n",
       "      <th>BUILDING CLASS AT TIME OF SALE</th>\n",
       "      <th>SALE PRICE</th>\n",
       "      <th>SALE DATE</th>\n",
       "    </tr>\n",
       "  </thead>\n",
       "  <tbody>\n",
       "    <tr>\n",
       "      <th>0</th>\n",
       "      <td>1</td>\n",
       "      <td>ALPHABET CITY</td>\n",
       "      <td>07 RENTALS - WALKUP APARTMENTS</td>\n",
       "      <td>2A</td>\n",
       "      <td>392</td>\n",
       "      <td>6</td>\n",
       "      <td>C2</td>\n",
       "      <td>153 AVENUE B</td>\n",
       "      <td></td>\n",
       "      <td>10009</td>\n",
       "      <td>5</td>\n",
       "      <td>0</td>\n",
       "      <td>5</td>\n",
       "      <td>1633</td>\n",
       "      <td>6440</td>\n",
       "      <td>1900</td>\n",
       "      <td>2</td>\n",
       "      <td>C2</td>\n",
       "      <td>6625000</td>\n",
       "      <td>2017-07-19 00:00:00</td>\n",
       "    </tr>\n",
       "    <tr>\n",
       "      <th>1</th>\n",
       "      <td>1</td>\n",
       "      <td>ALPHABET CITY</td>\n",
       "      <td>07 RENTALS - WALKUP APARTMENTS</td>\n",
       "      <td>2</td>\n",
       "      <td>399</td>\n",
       "      <td>26</td>\n",
       "      <td>C7</td>\n",
       "      <td>234 EAST 4TH   STREET</td>\n",
       "      <td></td>\n",
       "      <td>10009</td>\n",
       "      <td>28</td>\n",
       "      <td>3</td>\n",
       "      <td>31</td>\n",
       "      <td>4616</td>\n",
       "      <td>18690</td>\n",
       "      <td>1900</td>\n",
       "      <td>2</td>\n",
       "      <td>C7</td>\n",
       "      <td>-</td>\n",
       "      <td>2016-12-14 00:00:00</td>\n",
       "    </tr>\n",
       "    <tr>\n",
       "      <th>2</th>\n",
       "      <td>1</td>\n",
       "      <td>ALPHABET CITY</td>\n",
       "      <td>07 RENTALS - WALKUP APARTMENTS</td>\n",
       "      <td>2</td>\n",
       "      <td>399</td>\n",
       "      <td>39</td>\n",
       "      <td>C7</td>\n",
       "      <td>197 EAST 3RD   STREET</td>\n",
       "      <td></td>\n",
       "      <td>10009</td>\n",
       "      <td>16</td>\n",
       "      <td>1</td>\n",
       "      <td>17</td>\n",
       "      <td>2212</td>\n",
       "      <td>7803</td>\n",
       "      <td>1900</td>\n",
       "      <td>2</td>\n",
       "      <td>C7</td>\n",
       "      <td>-</td>\n",
       "      <td>2016-12-09 00:00:00</td>\n",
       "    </tr>\n",
       "    <tr>\n",
       "      <th>3</th>\n",
       "      <td>1</td>\n",
       "      <td>ALPHABET CITY</td>\n",
       "      <td>07 RENTALS - WALKUP APARTMENTS</td>\n",
       "      <td>2B</td>\n",
       "      <td>402</td>\n",
       "      <td>21</td>\n",
       "      <td>C4</td>\n",
       "      <td>154 EAST 7TH STREET</td>\n",
       "      <td></td>\n",
       "      <td>10009</td>\n",
       "      <td>10</td>\n",
       "      <td>0</td>\n",
       "      <td>10</td>\n",
       "      <td>2272</td>\n",
       "      <td>6794</td>\n",
       "      <td>1913</td>\n",
       "      <td>2</td>\n",
       "      <td>C4</td>\n",
       "      <td>3936272</td>\n",
       "      <td>2016-09-23 00:00:00</td>\n",
       "    </tr>\n",
       "    <tr>\n",
       "      <th>4</th>\n",
       "      <td>1</td>\n",
       "      <td>ALPHABET CITY</td>\n",
       "      <td>07 RENTALS - WALKUP APARTMENTS</td>\n",
       "      <td>2A</td>\n",
       "      <td>404</td>\n",
       "      <td>55</td>\n",
       "      <td>C2</td>\n",
       "      <td>301 EAST 10TH   STREET</td>\n",
       "      <td></td>\n",
       "      <td>10009</td>\n",
       "      <td>6</td>\n",
       "      <td>0</td>\n",
       "      <td>6</td>\n",
       "      <td>2369</td>\n",
       "      <td>4615</td>\n",
       "      <td>1900</td>\n",
       "      <td>2</td>\n",
       "      <td>C2</td>\n",
       "      <td>8000000</td>\n",
       "      <td>2016-11-17 00:00:00</td>\n",
       "    </tr>\n",
       "  </tbody>\n",
       "</table>\n",
       "</div>"
      ],
      "text/plain": [
       "   BOROUGH   NEIGHBORHOOD                      BUILDING CLASS CATEGORY  \\\n",
       "0        1  ALPHABET CITY  07 RENTALS - WALKUP APARTMENTS                \n",
       "1        1  ALPHABET CITY  07 RENTALS - WALKUP APARTMENTS                \n",
       "2        1  ALPHABET CITY  07 RENTALS - WALKUP APARTMENTS                \n",
       "3        1  ALPHABET CITY  07 RENTALS - WALKUP APARTMENTS                \n",
       "4        1  ALPHABET CITY  07 RENTALS - WALKUP APARTMENTS                \n",
       "\n",
       "  TAX CLASS AT PRESENT  BLOCK  LOT BUILDING CLASS AT PRESENT  \\\n",
       "0                   2A    392    6                        C2   \n",
       "1                    2    399   26                        C7   \n",
       "2                    2    399   39                        C7   \n",
       "3                   2B    402   21                        C4   \n",
       "4                   2A    404   55                        C2   \n",
       "\n",
       "                  ADDRESS APARTMENT NUMBER  ZIP CODE  RESIDENTIAL UNITS  \\\n",
       "0            153 AVENUE B                      10009                  5   \n",
       "1   234 EAST 4TH   STREET                      10009                 28   \n",
       "2   197 EAST 3RD   STREET                      10009                 16   \n",
       "3     154 EAST 7TH STREET                      10009                 10   \n",
       "4  301 EAST 10TH   STREET                      10009                  6   \n",
       "\n",
       "   COMMERCIAL UNITS  TOTAL UNITS LAND SQUARE FEET GROSS SQUARE FEET  \\\n",
       "0                 0            5             1633              6440   \n",
       "1                 3           31             4616             18690   \n",
       "2                 1           17             2212              7803   \n",
       "3                 0           10             2272              6794   \n",
       "4                 0            6             2369              4615   \n",
       "\n",
       "   YEAR BUILT  TAX CLASS AT TIME OF SALE BUILDING CLASS AT TIME OF SALE  \\\n",
       "0        1900                          2                             C2   \n",
       "1        1900                          2                             C7   \n",
       "2        1900                          2                             C7   \n",
       "3        1913                          2                             C4   \n",
       "4        1900                          2                             C2   \n",
       "\n",
       "  SALE PRICE            SALE DATE  \n",
       "0    6625000  2017-07-19 00:00:00  \n",
       "1        -    2016-12-14 00:00:00  \n",
       "2        -    2016-12-09 00:00:00  \n",
       "3    3936272  2016-09-23 00:00:00  \n",
       "4    8000000  2016-11-17 00:00:00  "
      ]
     },
     "execution_count": 4,
     "metadata": {},
     "output_type": "execute_result"
    }
   ],
   "source": [
    "# menghapus kolom yang tidak penting\n",
    "df.drop(columns=['Unnamed: 0', 'EASE-MENT'], inplace = True)\n",
    "df.head()\n"
   ]
  },
  {
   "cell_type": "code",
   "execution_count": 5,
   "id": "11765fe0",
   "metadata": {},
   "outputs": [
    {
     "data": {
      "text/html": [
       "<div>\n",
       "<style scoped>\n",
       "    .dataframe tbody tr th:only-of-type {\n",
       "        vertical-align: middle;\n",
       "    }\n",
       "\n",
       "    .dataframe tbody tr th {\n",
       "        vertical-align: top;\n",
       "    }\n",
       "\n",
       "    .dataframe thead th {\n",
       "        text-align: right;\n",
       "    }\n",
       "</style>\n",
       "<table border=\"1\" class=\"dataframe\">\n",
       "  <thead>\n",
       "    <tr style=\"text-align: right;\">\n",
       "      <th></th>\n",
       "      <th>BOROUGH</th>\n",
       "      <th>NEIGHBORHOOD</th>\n",
       "      <th>BUILDING CLASS CATEGORY</th>\n",
       "      <th>TAX CLASS AT PRESENT</th>\n",
       "      <th>BLOCK</th>\n",
       "      <th>LOT</th>\n",
       "      <th>BUILDING CLASS AT PRESENT</th>\n",
       "      <th>ADDRESS</th>\n",
       "      <th>APARTMENT NUMBER</th>\n",
       "      <th>ZIP CODE</th>\n",
       "      <th>RESIDENTIAL UNITS</th>\n",
       "      <th>COMMERCIAL UNITS</th>\n",
       "      <th>TOTAL UNITS</th>\n",
       "      <th>LAND SQUARE FEET</th>\n",
       "      <th>GROSS SQUARE FEET</th>\n",
       "      <th>YEAR BUILT</th>\n",
       "      <th>TAX CLASS AT TIME OF SALE</th>\n",
       "      <th>BUILDING CLASS AT TIME OF SALE</th>\n",
       "      <th>SALE PRICE</th>\n",
       "      <th>SALE DATE</th>\n",
       "    </tr>\n",
       "  </thead>\n",
       "  <tbody>\n",
       "    <tr>\n",
       "      <th>84543</th>\n",
       "      <td>5</td>\n",
       "      <td>WOODROW</td>\n",
       "      <td>02 TWO FAMILY DWELLINGS</td>\n",
       "      <td>1</td>\n",
       "      <td>7349</td>\n",
       "      <td>34</td>\n",
       "      <td>B9</td>\n",
       "      <td>37 QUAIL LANE</td>\n",
       "      <td></td>\n",
       "      <td>10309</td>\n",
       "      <td>2</td>\n",
       "      <td>0</td>\n",
       "      <td>2</td>\n",
       "      <td>2400</td>\n",
       "      <td>2575</td>\n",
       "      <td>1998</td>\n",
       "      <td>1</td>\n",
       "      <td>B9</td>\n",
       "      <td>450000</td>\n",
       "      <td>2016-11-28 00:00:00</td>\n",
       "    </tr>\n",
       "    <tr>\n",
       "      <th>84544</th>\n",
       "      <td>5</td>\n",
       "      <td>WOODROW</td>\n",
       "      <td>02 TWO FAMILY DWELLINGS</td>\n",
       "      <td>1</td>\n",
       "      <td>7349</td>\n",
       "      <td>78</td>\n",
       "      <td>B9</td>\n",
       "      <td>32 PHEASANT LANE</td>\n",
       "      <td></td>\n",
       "      <td>10309</td>\n",
       "      <td>2</td>\n",
       "      <td>0</td>\n",
       "      <td>2</td>\n",
       "      <td>2498</td>\n",
       "      <td>2377</td>\n",
       "      <td>1998</td>\n",
       "      <td>1</td>\n",
       "      <td>B9</td>\n",
       "      <td>550000</td>\n",
       "      <td>2017-04-21 00:00:00</td>\n",
       "    </tr>\n",
       "    <tr>\n",
       "      <th>84545</th>\n",
       "      <td>5</td>\n",
       "      <td>WOODROW</td>\n",
       "      <td>02 TWO FAMILY DWELLINGS</td>\n",
       "      <td>1</td>\n",
       "      <td>7351</td>\n",
       "      <td>60</td>\n",
       "      <td>B2</td>\n",
       "      <td>49 PITNEY AVENUE</td>\n",
       "      <td></td>\n",
       "      <td>10309</td>\n",
       "      <td>2</td>\n",
       "      <td>0</td>\n",
       "      <td>2</td>\n",
       "      <td>4000</td>\n",
       "      <td>1496</td>\n",
       "      <td>1925</td>\n",
       "      <td>1</td>\n",
       "      <td>B2</td>\n",
       "      <td>460000</td>\n",
       "      <td>2017-07-05 00:00:00</td>\n",
       "    </tr>\n",
       "    <tr>\n",
       "      <th>84546</th>\n",
       "      <td>5</td>\n",
       "      <td>WOODROW</td>\n",
       "      <td>22 STORE BUILDINGS</td>\n",
       "      <td>4</td>\n",
       "      <td>7100</td>\n",
       "      <td>28</td>\n",
       "      <td>K6</td>\n",
       "      <td>2730 ARTHUR KILL ROAD</td>\n",
       "      <td></td>\n",
       "      <td>10309</td>\n",
       "      <td>0</td>\n",
       "      <td>7</td>\n",
       "      <td>7</td>\n",
       "      <td>208033</td>\n",
       "      <td>64117</td>\n",
       "      <td>2001</td>\n",
       "      <td>4</td>\n",
       "      <td>K6</td>\n",
       "      <td>11693337</td>\n",
       "      <td>2016-12-21 00:00:00</td>\n",
       "    </tr>\n",
       "    <tr>\n",
       "      <th>84547</th>\n",
       "      <td>5</td>\n",
       "      <td>WOODROW</td>\n",
       "      <td>35 INDOOR PUBLIC AND CULTURAL FACILITIES</td>\n",
       "      <td>4</td>\n",
       "      <td>7105</td>\n",
       "      <td>679</td>\n",
       "      <td>P9</td>\n",
       "      <td>155 CLAY PIT ROAD</td>\n",
       "      <td></td>\n",
       "      <td>10309</td>\n",
       "      <td>0</td>\n",
       "      <td>1</td>\n",
       "      <td>1</td>\n",
       "      <td>10796</td>\n",
       "      <td>2400</td>\n",
       "      <td>2006</td>\n",
       "      <td>4</td>\n",
       "      <td>P9</td>\n",
       "      <td>69300</td>\n",
       "      <td>2016-10-27 00:00:00</td>\n",
       "    </tr>\n",
       "  </tbody>\n",
       "</table>\n",
       "</div>"
      ],
      "text/plain": [
       "       BOROUGH NEIGHBORHOOD                      BUILDING CLASS CATEGORY  \\\n",
       "84543        5      WOODROW  02 TWO FAMILY DWELLINGS                       \n",
       "84544        5      WOODROW  02 TWO FAMILY DWELLINGS                       \n",
       "84545        5      WOODROW  02 TWO FAMILY DWELLINGS                       \n",
       "84546        5      WOODROW  22 STORE BUILDINGS                            \n",
       "84547        5      WOODROW  35 INDOOR PUBLIC AND CULTURAL FACILITIES      \n",
       "\n",
       "      TAX CLASS AT PRESENT  BLOCK  LOT BUILDING CLASS AT PRESENT  \\\n",
       "84543                    1   7349   34                        B9   \n",
       "84544                    1   7349   78                        B9   \n",
       "84545                    1   7351   60                        B2   \n",
       "84546                    4   7100   28                        K6   \n",
       "84547                    4   7105  679                        P9   \n",
       "\n",
       "                     ADDRESS APARTMENT NUMBER  ZIP CODE  RESIDENTIAL UNITS  \\\n",
       "84543          37 QUAIL LANE                      10309                  2   \n",
       "84544       32 PHEASANT LANE                      10309                  2   \n",
       "84545       49 PITNEY AVENUE                      10309                  2   \n",
       "84546  2730 ARTHUR KILL ROAD                      10309                  0   \n",
       "84547      155 CLAY PIT ROAD                      10309                  0   \n",
       "\n",
       "       COMMERCIAL UNITS  TOTAL UNITS LAND SQUARE FEET GROSS SQUARE FEET  \\\n",
       "84543                 0            2             2400              2575   \n",
       "84544                 0            2             2498              2377   \n",
       "84545                 0            2             4000              1496   \n",
       "84546                 7            7           208033             64117   \n",
       "84547                 1            1            10796              2400   \n",
       "\n",
       "       YEAR BUILT  TAX CLASS AT TIME OF SALE BUILDING CLASS AT TIME OF SALE  \\\n",
       "84543        1998                          1                             B9   \n",
       "84544        1998                          1                             B9   \n",
       "84545        1925                          1                             B2   \n",
       "84546        2001                          4                             K6   \n",
       "84547        2006                          4                             P9   \n",
       "\n",
       "      SALE PRICE            SALE DATE  \n",
       "84543     450000  2016-11-28 00:00:00  \n",
       "84544     550000  2017-04-21 00:00:00  \n",
       "84545     460000  2017-07-05 00:00:00  \n",
       "84546   11693337  2016-12-21 00:00:00  \n",
       "84547      69300  2016-10-27 00:00:00  "
      ]
     },
     "execution_count": 5,
     "metadata": {},
     "output_type": "execute_result"
    }
   ],
   "source": [
    "# Menampilkan data 5 terbawah\n",
    "df.tail()"
   ]
  },
  {
   "cell_type": "code",
   "execution_count": 6,
   "id": "01c4b3b4",
   "metadata": {},
   "outputs": [
    {
     "data": {
      "text/plain": [
       "(84548, 20)"
      ]
     },
     "execution_count": 6,
     "metadata": {},
     "output_type": "execute_result"
    }
   ],
   "source": [
    "# Ukuran Dimensi DataFrame\n",
    "df.shape"
   ]
  },
  {
   "cell_type": "code",
   "execution_count": 7,
   "id": "a4be9327",
   "metadata": {},
   "outputs": [
    {
     "data": {
      "text/plain": [
       "array(['BOROUGH', 'NEIGHBORHOOD', 'BUILDING CLASS CATEGORY',\n",
       "       'TAX CLASS AT PRESENT', 'BLOCK', 'LOT',\n",
       "       'BUILDING CLASS AT PRESENT', 'ADDRESS', 'APARTMENT NUMBER',\n",
       "       'ZIP CODE', 'RESIDENTIAL UNITS', 'COMMERCIAL UNITS', 'TOTAL UNITS',\n",
       "       'LAND SQUARE FEET', 'GROSS SQUARE FEET', 'YEAR BUILT',\n",
       "       'TAX CLASS AT TIME OF SALE', 'BUILDING CLASS AT TIME OF SALE',\n",
       "       'SALE PRICE', 'SALE DATE'], dtype=object)"
      ]
     },
     "execution_count": 7,
     "metadata": {},
     "output_type": "execute_result"
    }
   ],
   "source": [
    "# Menampilkan daftar nama kolom\n",
    "df.columns.values"
   ]
  },
  {
   "cell_type": "code",
   "execution_count": 8,
   "id": "47a500b8",
   "metadata": {},
   "outputs": [
    {
     "data": {
      "text/plain": [
       "RangeIndex(start=0, stop=84548, step=1)"
      ]
     },
     "execution_count": 8,
     "metadata": {},
     "output_type": "execute_result"
    }
   ],
   "source": [
    "# Index \n",
    "df.index"
   ]
  },
  {
   "cell_type": "code",
   "execution_count": 9,
   "id": "0d17eb55",
   "metadata": {},
   "outputs": [
    {
     "name": "stdout",
     "output_type": "stream",
     "text": [
      "<class 'pandas.core.frame.DataFrame'>\n",
      "RangeIndex: 84548 entries, 0 to 84547\n",
      "Data columns (total 20 columns):\n",
      " #   Column                          Non-Null Count  Dtype \n",
      "---  ------                          --------------  ----- \n",
      " 0   BOROUGH                         84548 non-null  int64 \n",
      " 1   NEIGHBORHOOD                    84548 non-null  object\n",
      " 2   BUILDING CLASS CATEGORY         84548 non-null  object\n",
      " 3   TAX CLASS AT PRESENT            84548 non-null  object\n",
      " 4   BLOCK                           84548 non-null  int64 \n",
      " 5   LOT                             84548 non-null  int64 \n",
      " 6   BUILDING CLASS AT PRESENT       84548 non-null  object\n",
      " 7   ADDRESS                         84548 non-null  object\n",
      " 8   APARTMENT NUMBER                84548 non-null  object\n",
      " 9   ZIP CODE                        84548 non-null  int64 \n",
      " 10  RESIDENTIAL UNITS               84548 non-null  int64 \n",
      " 11  COMMERCIAL UNITS                84548 non-null  int64 \n",
      " 12  TOTAL UNITS                     84548 non-null  int64 \n",
      " 13  LAND SQUARE FEET                84548 non-null  object\n",
      " 14  GROSS SQUARE FEET               84548 non-null  object\n",
      " 15  YEAR BUILT                      84548 non-null  int64 \n",
      " 16  TAX CLASS AT TIME OF SALE       84548 non-null  int64 \n",
      " 17  BUILDING CLASS AT TIME OF SALE  84548 non-null  object\n",
      " 18  SALE PRICE                      84548 non-null  object\n",
      " 19  SALE DATE                       84548 non-null  object\n",
      "dtypes: int64(9), object(11)\n",
      "memory usage: 12.9+ MB\n"
     ]
    }
   ],
   "source": [
    "df.info()"
   ]
  },
  {
   "cell_type": "code",
   "execution_count": 10,
   "id": "4efb481a",
   "metadata": {},
   "outputs": [
    {
     "data": {
      "text/html": [
       "<div>\n",
       "<style scoped>\n",
       "    .dataframe tbody tr th:only-of-type {\n",
       "        vertical-align: middle;\n",
       "    }\n",
       "\n",
       "    .dataframe tbody tr th {\n",
       "        vertical-align: top;\n",
       "    }\n",
       "\n",
       "    .dataframe thead th {\n",
       "        text-align: right;\n",
       "    }\n",
       "</style>\n",
       "<table border=\"1\" class=\"dataframe\">\n",
       "  <thead>\n",
       "    <tr style=\"text-align: right;\">\n",
       "      <th></th>\n",
       "      <th>BOROUGH</th>\n",
       "      <th>BLOCK</th>\n",
       "      <th>LOT</th>\n",
       "      <th>ZIP CODE</th>\n",
       "      <th>RESIDENTIAL UNITS</th>\n",
       "      <th>COMMERCIAL UNITS</th>\n",
       "      <th>TOTAL UNITS</th>\n",
       "      <th>YEAR BUILT</th>\n",
       "      <th>TAX CLASS AT TIME OF SALE</th>\n",
       "    </tr>\n",
       "  </thead>\n",
       "  <tbody>\n",
       "    <tr>\n",
       "      <th>count</th>\n",
       "      <td>84548.000000</td>\n",
       "      <td>84548.000000</td>\n",
       "      <td>84548.000000</td>\n",
       "      <td>84548.000000</td>\n",
       "      <td>84548.000000</td>\n",
       "      <td>84548.000000</td>\n",
       "      <td>84548.000000</td>\n",
       "      <td>84548.000000</td>\n",
       "      <td>84548.000000</td>\n",
       "    </tr>\n",
       "    <tr>\n",
       "      <th>mean</th>\n",
       "      <td>2.998758</td>\n",
       "      <td>4237.218976</td>\n",
       "      <td>376.224015</td>\n",
       "      <td>10731.991614</td>\n",
       "      <td>2.025264</td>\n",
       "      <td>0.193559</td>\n",
       "      <td>2.249184</td>\n",
       "      <td>1789.322976</td>\n",
       "      <td>1.657485</td>\n",
       "    </tr>\n",
       "    <tr>\n",
       "      <th>std</th>\n",
       "      <td>1.289790</td>\n",
       "      <td>3568.263407</td>\n",
       "      <td>658.136814</td>\n",
       "      <td>1290.879147</td>\n",
       "      <td>16.721037</td>\n",
       "      <td>8.713183</td>\n",
       "      <td>18.972584</td>\n",
       "      <td>537.344993</td>\n",
       "      <td>0.819341</td>\n",
       "    </tr>\n",
       "    <tr>\n",
       "      <th>min</th>\n",
       "      <td>1.000000</td>\n",
       "      <td>1.000000</td>\n",
       "      <td>1.000000</td>\n",
       "      <td>0.000000</td>\n",
       "      <td>0.000000</td>\n",
       "      <td>0.000000</td>\n",
       "      <td>0.000000</td>\n",
       "      <td>0.000000</td>\n",
       "      <td>1.000000</td>\n",
       "    </tr>\n",
       "    <tr>\n",
       "      <th>25%</th>\n",
       "      <td>2.000000</td>\n",
       "      <td>1322.750000</td>\n",
       "      <td>22.000000</td>\n",
       "      <td>10305.000000</td>\n",
       "      <td>0.000000</td>\n",
       "      <td>0.000000</td>\n",
       "      <td>1.000000</td>\n",
       "      <td>1920.000000</td>\n",
       "      <td>1.000000</td>\n",
       "    </tr>\n",
       "    <tr>\n",
       "      <th>50%</th>\n",
       "      <td>3.000000</td>\n",
       "      <td>3311.000000</td>\n",
       "      <td>50.000000</td>\n",
       "      <td>11209.000000</td>\n",
       "      <td>1.000000</td>\n",
       "      <td>0.000000</td>\n",
       "      <td>1.000000</td>\n",
       "      <td>1940.000000</td>\n",
       "      <td>2.000000</td>\n",
       "    </tr>\n",
       "    <tr>\n",
       "      <th>75%</th>\n",
       "      <td>4.000000</td>\n",
       "      <td>6281.000000</td>\n",
       "      <td>1001.000000</td>\n",
       "      <td>11357.000000</td>\n",
       "      <td>2.000000</td>\n",
       "      <td>0.000000</td>\n",
       "      <td>2.000000</td>\n",
       "      <td>1965.000000</td>\n",
       "      <td>2.000000</td>\n",
       "    </tr>\n",
       "    <tr>\n",
       "      <th>max</th>\n",
       "      <td>5.000000</td>\n",
       "      <td>16322.000000</td>\n",
       "      <td>9106.000000</td>\n",
       "      <td>11694.000000</td>\n",
       "      <td>1844.000000</td>\n",
       "      <td>2261.000000</td>\n",
       "      <td>2261.000000</td>\n",
       "      <td>2017.000000</td>\n",
       "      <td>4.000000</td>\n",
       "    </tr>\n",
       "  </tbody>\n",
       "</table>\n",
       "</div>"
      ],
      "text/plain": [
       "            BOROUGH         BLOCK           LOT      ZIP CODE  \\\n",
       "count  84548.000000  84548.000000  84548.000000  84548.000000   \n",
       "mean       2.998758   4237.218976    376.224015  10731.991614   \n",
       "std        1.289790   3568.263407    658.136814   1290.879147   \n",
       "min        1.000000      1.000000      1.000000      0.000000   \n",
       "25%        2.000000   1322.750000     22.000000  10305.000000   \n",
       "50%        3.000000   3311.000000     50.000000  11209.000000   \n",
       "75%        4.000000   6281.000000   1001.000000  11357.000000   \n",
       "max        5.000000  16322.000000   9106.000000  11694.000000   \n",
       "\n",
       "       RESIDENTIAL UNITS  COMMERCIAL UNITS   TOTAL UNITS    YEAR BUILT  \\\n",
       "count       84548.000000      84548.000000  84548.000000  84548.000000   \n",
       "mean            2.025264          0.193559      2.249184   1789.322976   \n",
       "std            16.721037          8.713183     18.972584    537.344993   \n",
       "min             0.000000          0.000000      0.000000      0.000000   \n",
       "25%             0.000000          0.000000      1.000000   1920.000000   \n",
       "50%             1.000000          0.000000      1.000000   1940.000000   \n",
       "75%             2.000000          0.000000      2.000000   1965.000000   \n",
       "max          1844.000000       2261.000000   2261.000000   2017.000000   \n",
       "\n",
       "       TAX CLASS AT TIME OF SALE  \n",
       "count               84548.000000  \n",
       "mean                    1.657485  \n",
       "std                     0.819341  \n",
       "min                     1.000000  \n",
       "25%                     1.000000  \n",
       "50%                     2.000000  \n",
       "75%                     2.000000  \n",
       "max                     4.000000  "
      ]
     },
     "execution_count": 10,
     "metadata": {},
     "output_type": "execute_result"
    }
   ],
   "source": [
    "df.describe()"
   ]
  },
  {
   "cell_type": "code",
   "execution_count": 11,
   "id": "1e17475f",
   "metadata": {},
   "outputs": [
    {
     "data": {
      "text/html": [
       "<div>\n",
       "<style scoped>\n",
       "    .dataframe tbody tr th:only-of-type {\n",
       "        vertical-align: middle;\n",
       "    }\n",
       "\n",
       "    .dataframe tbody tr th {\n",
       "        vertical-align: top;\n",
       "    }\n",
       "\n",
       "    .dataframe thead th {\n",
       "        text-align: right;\n",
       "    }\n",
       "</style>\n",
       "<table border=\"1\" class=\"dataframe\">\n",
       "  <thead>\n",
       "    <tr style=\"text-align: right;\">\n",
       "      <th></th>\n",
       "      <th>NEIGHBORHOOD</th>\n",
       "      <th>BUILDING CLASS CATEGORY</th>\n",
       "      <th>TAX CLASS AT PRESENT</th>\n",
       "      <th>BUILDING CLASS AT PRESENT</th>\n",
       "      <th>ADDRESS</th>\n",
       "      <th>APARTMENT NUMBER</th>\n",
       "      <th>LAND SQUARE FEET</th>\n",
       "      <th>GROSS SQUARE FEET</th>\n",
       "      <th>BUILDING CLASS AT TIME OF SALE</th>\n",
       "      <th>SALE PRICE</th>\n",
       "      <th>SALE DATE</th>\n",
       "    </tr>\n",
       "  </thead>\n",
       "  <tbody>\n",
       "    <tr>\n",
       "      <th>count</th>\n",
       "      <td>84548</td>\n",
       "      <td>84548</td>\n",
       "      <td>84548</td>\n",
       "      <td>84548</td>\n",
       "      <td>84548</td>\n",
       "      <td>84548</td>\n",
       "      <td>84548</td>\n",
       "      <td>84548</td>\n",
       "      <td>84548</td>\n",
       "      <td>84548</td>\n",
       "      <td>84548</td>\n",
       "    </tr>\n",
       "    <tr>\n",
       "      <th>unique</th>\n",
       "      <td>254</td>\n",
       "      <td>47</td>\n",
       "      <td>11</td>\n",
       "      <td>167</td>\n",
       "      <td>67563</td>\n",
       "      <td>3989</td>\n",
       "      <td>6062</td>\n",
       "      <td>5691</td>\n",
       "      <td>166</td>\n",
       "      <td>10008</td>\n",
       "      <td>364</td>\n",
       "    </tr>\n",
       "    <tr>\n",
       "      <th>top</th>\n",
       "      <td>FLUSHING-NORTH</td>\n",
       "      <td>01 ONE FAMILY DWELLINGS</td>\n",
       "      <td>1</td>\n",
       "      <td>D4</td>\n",
       "      <td>131-05 40TH   ROAD</td>\n",
       "      <td></td>\n",
       "      <td>-</td>\n",
       "      <td>-</td>\n",
       "      <td>R4</td>\n",
       "      <td>-</td>\n",
       "      <td>2017-06-29 00:00:00</td>\n",
       "    </tr>\n",
       "    <tr>\n",
       "      <th>freq</th>\n",
       "      <td>3068</td>\n",
       "      <td>18235</td>\n",
       "      <td>38633</td>\n",
       "      <td>12663</td>\n",
       "      <td>210</td>\n",
       "      <td>65496</td>\n",
       "      <td>26252</td>\n",
       "      <td>27612</td>\n",
       "      <td>12989</td>\n",
       "      <td>14561</td>\n",
       "      <td>544</td>\n",
       "    </tr>\n",
       "  </tbody>\n",
       "</table>\n",
       "</div>"
      ],
      "text/plain": [
       "          NEIGHBORHOOD                      BUILDING CLASS CATEGORY  \\\n",
       "count            84548                                        84548   \n",
       "unique             254                                           47   \n",
       "top     FLUSHING-NORTH  01 ONE FAMILY DWELLINGS                       \n",
       "freq              3068                                        18235   \n",
       "\n",
       "       TAX CLASS AT PRESENT BUILDING CLASS AT PRESENT             ADDRESS  \\\n",
       "count                 84548                     84548               84548   \n",
       "unique                   11                       167               67563   \n",
       "top                       1                        D4  131-05 40TH   ROAD   \n",
       "freq                  38633                     12663                 210   \n",
       "\n",
       "       APARTMENT NUMBER LAND SQUARE FEET GROSS SQUARE FEET  \\\n",
       "count             84548            84548             84548   \n",
       "unique             3989             6062              5691   \n",
       "top                                  -                 -     \n",
       "freq              65496            26252             27612   \n",
       "\n",
       "       BUILDING CLASS AT TIME OF SALE SALE PRICE            SALE DATE  \n",
       "count                           84548      84548                84548  \n",
       "unique                            166      10008                  364  \n",
       "top                                R4        -    2017-06-29 00:00:00  \n",
       "freq                            12989      14561                  544  "
      ]
     },
     "execution_count": 11,
     "metadata": {},
     "output_type": "execute_result"
    }
   ],
   "source": [
    "df.describe(include = object)\n"
   ]
  },
  {
   "cell_type": "code",
   "execution_count": 12,
   "id": "b577a4bc",
   "metadata": {},
   "outputs": [
    {
     "name": "stdout",
     "output_type": "stream",
     "text": [
      "Nama Kolom\n",
      "NEIGHBORHOOD 254\n",
      "BUILDING CLASS CATEGORY 47\n",
      "TAX CLASS AT PRESENT 11\n",
      "BUILDING CLASS AT PRESENT 167\n",
      "ADDRESS 67563\n",
      "APARTMENT NUMBER 3989\n",
      "LAND SQUARE FEET 6062\n",
      "GROSS SQUARE FEET 5691\n",
      "BUILDING CLASS AT TIME OF SALE 166\n",
      "SALE PRICE 10008\n",
      "SALE DATE 364\n"
     ]
    }
   ],
   "source": [
    "# Mencetak nama-nama kolom termasuk data kategorikal\n",
    "print('Nama Kolom')\n",
    "for col in df.columns:\n",
    "    if df[col].dtype=='object':\n",
    "        print(col, df[col].nunique())"
   ]
  },
  {
   "cell_type": "code",
   "execution_count": 13,
   "id": "da9ae730",
   "metadata": {},
   "outputs": [],
   "source": [
    "# mengubah menjadi kolom numerik\n",
    "numer = ['LAND SQUARE FEET', 'GROSS SQUARE FEET', 'SALE PRICE', 'BOROUGH']\n",
    "for col in numer: \n",
    "    df[col] = pd.to_numeric(df[col], errors='coerce')\n",
    "\n",
    "# mengubah menjadi kolom categorical\n",
    "categ = ['NEIGHBORHOOD', 'BUILDING CLASS CATEGORY', 'TAX CLASS AT PRESENT', 'BUILDING CLASS AT PRESENT', 'BUILDING CLASS AT TIME OF SALE', 'TAX CLASS AT TIME OF SALE']\n",
    "for col in categ:\n",
    "    df[col] = df[col].astype('category')\n",
    "\n",
    "# mengubah kolom SALE DATE menjadi datetime\n",
    "df['SALE DATE'] = pd.to_datetime(df['SALE DATE'], errors='coerce')\n"
   ]
  },
  {
   "cell_type": "code",
   "execution_count": 14,
   "id": "f404cd4c",
   "metadata": {},
   "outputs": [
    {
     "name": "stdout",
     "output_type": "stream",
     "text": [
      "<class 'pandas.core.frame.DataFrame'>\n",
      "RangeIndex: 84548 entries, 0 to 84547\n",
      "Data columns (total 20 columns):\n",
      " #   Column                          Non-Null Count  Dtype         \n",
      "---  ------                          --------------  -----         \n",
      " 0   BOROUGH                         84548 non-null  int64         \n",
      " 1   NEIGHBORHOOD                    84548 non-null  category      \n",
      " 2   BUILDING CLASS CATEGORY         84548 non-null  category      \n",
      " 3   TAX CLASS AT PRESENT            84548 non-null  category      \n",
      " 4   BLOCK                           84548 non-null  int64         \n",
      " 5   LOT                             84548 non-null  int64         \n",
      " 6   BUILDING CLASS AT PRESENT       84548 non-null  category      \n",
      " 7   ADDRESS                         84548 non-null  object        \n",
      " 8   APARTMENT NUMBER                84548 non-null  object        \n",
      " 9   ZIP CODE                        84548 non-null  int64         \n",
      " 10  RESIDENTIAL UNITS               84548 non-null  int64         \n",
      " 11  COMMERCIAL UNITS                84548 non-null  int64         \n",
      " 12  TOTAL UNITS                     84548 non-null  int64         \n",
      " 13  LAND SQUARE FEET                58296 non-null  float64       \n",
      " 14  GROSS SQUARE FEET               56936 non-null  float64       \n",
      " 15  YEAR BUILT                      84548 non-null  int64         \n",
      " 16  TAX CLASS AT TIME OF SALE       84548 non-null  category      \n",
      " 17  BUILDING CLASS AT TIME OF SALE  84548 non-null  category      \n",
      " 18  SALE PRICE                      69987 non-null  float64       \n",
      " 19  SALE DATE                       84548 non-null  datetime64[ns]\n",
      "dtypes: category(6), datetime64[ns](1), float64(3), int64(8), object(2)\n",
      "memory usage: 9.8+ MB\n"
     ]
    }
   ],
   "source": [
    "df.info()"
   ]
  },
  {
   "cell_type": "markdown",
   "id": "8327bd22",
   "metadata": {},
   "source": [
    "### Cleaning Data"
   ]
  },
  {
   "cell_type": "code",
   "execution_count": 15,
   "id": "24de6ed2",
   "metadata": {},
   "outputs": [
    {
     "name": "stdout",
     "output_type": "stream",
     "text": [
      "BOROUGH                               0\n",
      "NEIGHBORHOOD                          0\n",
      "BUILDING CLASS CATEGORY               0\n",
      "TAX CLASS AT PRESENT                  0\n",
      "BLOCK                                 0\n",
      "LOT                                   0\n",
      "BUILDING CLASS AT PRESENT             0\n",
      "ADDRESS                               0\n",
      "APARTMENT NUMBER                      0\n",
      "ZIP CODE                              0\n",
      "RESIDENTIAL UNITS                     0\n",
      "COMMERCIAL UNITS                      0\n",
      "TOTAL UNITS                           0\n",
      "LAND SQUARE FEET                  26252\n",
      "GROSS SQUARE FEET                 27612\n",
      "YEAR BUILT                            0\n",
      "TAX CLASS AT TIME OF SALE             0\n",
      "BUILDING CLASS AT TIME OF SALE        0\n",
      "SALE PRICE                        14561\n",
      "SALE DATE                             0\n",
      "dtype: int64\n"
     ]
    }
   ],
   "source": [
    "#Menghitung jumlah nilai null(missing value) pada dataframe\n",
    "print(df.isnull().sum())"
   ]
  },
  {
   "cell_type": "code",
   "execution_count": 16,
   "id": "d30f91cc",
   "metadata": {},
   "outputs": [],
   "source": [
    "from numpy import nan\n",
    "\n",
    "#Mengganti isi kolom blank value dengan 'nan'\n",
    "df = df.replace(' ', nan)"
   ]
  },
  {
   "cell_type": "code",
   "execution_count": 17,
   "id": "22cb61e4",
   "metadata": {},
   "outputs": [
    {
     "data": {
      "text/plain": [
       "BOROUGH                               0\n",
       "NEIGHBORHOOD                          0\n",
       "BUILDING CLASS CATEGORY               0\n",
       "TAX CLASS AT PRESENT                738\n",
       "BLOCK                                 0\n",
       "LOT                                   0\n",
       "BUILDING CLASS AT PRESENT           738\n",
       "ADDRESS                               0\n",
       "APARTMENT NUMBER                  65496\n",
       "ZIP CODE                              0\n",
       "RESIDENTIAL UNITS                     0\n",
       "COMMERCIAL UNITS                      0\n",
       "TOTAL UNITS                           0\n",
       "LAND SQUARE FEET                  26252\n",
       "GROSS SQUARE FEET                 27612\n",
       "YEAR BUILT                            0\n",
       "TAX CLASS AT TIME OF SALE             0\n",
       "BUILDING CLASS AT TIME OF SALE        0\n",
       "SALE PRICE                        14561\n",
       "SALE DATE                             0\n",
       "dtype: int64"
      ]
     },
     "execution_count": 17,
     "metadata": {},
     "output_type": "execute_result"
    }
   ],
   "source": [
    "df.isna().sum()"
   ]
  },
  {
   "cell_type": "code",
   "execution_count": 18,
   "id": "8d651037",
   "metadata": {},
   "outputs": [
    {
     "data": {
      "text/plain": [
       "BOROUGH                            0.000000\n",
       "NEIGHBORHOOD                       0.000000\n",
       "BUILDING CLASS CATEGORY            0.000000\n",
       "TAX CLASS AT PRESENT               0.872877\n",
       "BLOCK                              0.000000\n",
       "LOT                                0.000000\n",
       "BUILDING CLASS AT PRESENT          0.872877\n",
       "ADDRESS                            0.000000\n",
       "APARTMENT NUMBER                  77.466055\n",
       "ZIP CODE                           0.000000\n",
       "RESIDENTIAL UNITS                  0.000000\n",
       "COMMERCIAL UNITS                   0.000000\n",
       "TOTAL UNITS                        0.000000\n",
       "LAND SQUARE FEET                  31.049818\n",
       "GROSS SQUARE FEET                 32.658372\n",
       "YEAR BUILT                         0.000000\n",
       "TAX CLASS AT TIME OF SALE          0.000000\n",
       "BUILDING CLASS AT TIME OF SALE     0.000000\n",
       "SALE PRICE                        17.222170\n",
       "SALE DATE                          0.000000\n",
       "dtype: float64"
      ]
     },
     "execution_count": 18,
     "metadata": {},
     "output_type": "execute_result"
    }
   ],
   "source": [
    "#Menghitung persentase missing values pada dataset\n",
    "df.isna().sum() / len(df) *100"
   ]
  },
  {
   "cell_type": "markdown",
   "id": "706ffa8f",
   "metadata": {},
   "source": [
    "Variabel apartment number memiliki jumlah missing values yang sangat banyak yaitu 77,5% sehingga variabel tersebut lebih baik dihapus."
   ]
  },
  {
   "cell_type": "code",
   "execution_count": 19,
   "id": "1046efde",
   "metadata": {},
   "outputs": [],
   "source": [
    "df.drop(labels=['APARTMENT NUMBER'], axis=1, inplace=True)"
   ]
  },
  {
   "cell_type": "markdown",
   "id": "8a3e8cea",
   "metadata": {},
   "source": [
    "Nilai NaN pada data categorical yaitu \"variabel Tax class at present\" dan \"building class at present\" dapat diganti dengan modus dari masing-masing variabel."
   ]
  },
  {
   "cell_type": "code",
   "execution_count": 20,
   "id": "1cb30f26",
   "metadata": {},
   "outputs": [],
   "source": [
    "df['TAX CLASS AT PRESENT'].fillna(df['TAX CLASS AT PRESENT'].mode()[0], inplace=True)\n",
    "df['BUILDING CLASS AT PRESENT'].fillna(df['BUILDING CLASS AT PRESENT'].mode()[0], inplace=True)"
   ]
  },
  {
   "cell_type": "markdown",
   "id": "1d331148",
   "metadata": {},
   "source": [
    "Untuk data int/float pada variable \"Sale Price\", \"Land Square Feet\", dan \"Gross Square Feet\" dapat diganti dengan mean atau median.\n",
    "\n",
    "Namun, sebelumnya kita harus melihat terlebih dahulu distribusi datanya melalui plot masing-masing variabel yang digunakan untuk mengetahui apakah data missing values (NaN) pada masing-masing variabel tepat untuk diganti dengan nilai mean atau mediannya."
   ]
  },
  {
   "cell_type": "code",
   "execution_count": 21,
   "id": "8336ee8b",
   "metadata": {},
   "outputs": [
    {
     "data": {
      "text/plain": [
       "<seaborn.axisgrid.FacetGrid at 0x1bcf38b2950>"
      ]
     },
     "execution_count": 21,
     "metadata": {},
     "output_type": "execute_result"
    },
    {
     "data": {
      "image/png": "[encoded data removed]",
      "text/plain": [
       "<Figure size 500x500 with 1 Axes>"
      ]
     },
     "metadata": {},
     "output_type": "display_data"
    }
   ],
   "source": [
    "sns.displot(df['SALE PRICE'], bins=40, rug=True)"
   ]
  },
  {
   "cell_type": "code",
   "execution_count": 22,
   "id": "5ccdd6ec",
   "metadata": {},
   "outputs": [
    {
     "data": {
      "text/plain": [
       "<seaborn.axisgrid.FacetGrid at 0x1bc806ccd00>"
      ]
     },
     "execution_count": 22,
     "metadata": {},
     "output_type": "execute_result"
    },
    {
     "data": {
      "image/png": "[encoded data removed]",
      "text/plain": [
       "<Figure size 500x500 with 1 Axes>"
      ]
     },
     "metadata": {},
     "output_type": "display_data"
    }
   ],
   "source": [
    "sns.displot(df['LAND SQUARE FEET'], bins=40, rug=True)"
   ]
  },
  {
   "cell_type": "code",
   "execution_count": 23,
   "id": "e81546c8",
   "metadata": {},
   "outputs": [
    {
     "data": {
      "text/plain": [
       "<seaborn.axisgrid.FacetGrid at 0x1bcf37e8370>"
      ]
     },
     "execution_count": 23,
     "metadata": {},
     "output_type": "execute_result"
    },
    {
     "data": {
      "image/png": "[encoded data removed]",
      "text/plain": [
       "<Figure size 500x500 with 1 Axes>"
      ]
     },
     "metadata": {},
     "output_type": "display_data"
    }
   ],
   "source": [
    "sns.displot(df['GROSS SQUARE FEET'], bins=40, rug=True)"
   ]
  },
  {
   "cell_type": "markdown",
   "id": "b19cf13c",
   "metadata": {},
   "source": [
    "Syarat untuk mengganti missing value pada dataset:\n",
    "\n",
    "1.Mengganti dengan mean untuk histogram normal\n",
    "\n",
    "2.Mengganti dengan median untuk histogram skew\n",
    "\n",
    "Dari ketiga plot di atas, variabel sale price, land square feet, dan gross square feet tidak menunjukkan histogram normal maupun skew, sehingga missing values pada ketiga variabel tersebut tidak dapat diganti dengan mean ataupun median.\n",
    "\n",
    "Karena jumlah nilai missing values berupa nilai NaN pada ketiga variabel tersebut tidak banyak yaitu 31,04% untuk land square feet, 32,65% untuk variabel gross square feet, dan 17,22% untuk variabel sale price (ketiganya di bawah 50%), maka dilakukan penghapusan row pada baris yang terdapat NaN"
   ]
  },
  {
   "cell_type": "code",
   "execution_count": 24,
   "id": "b65c09a1",
   "metadata": {},
   "outputs": [],
   "source": [
    "# Untuk menghapus nilai NaN pada df\n",
    "df = df.dropna()"
   ]
  },
  {
   "cell_type": "code",
   "execution_count": 25,
   "id": "cdaf1e7b",
   "metadata": {},
   "outputs": [
    {
     "data": {
      "text/plain": [
       "BOROUGH                           0\n",
       "NEIGHBORHOOD                      0\n",
       "BUILDING CLASS CATEGORY           0\n",
       "TAX CLASS AT PRESENT              0\n",
       "BLOCK                             0\n",
       "LOT                               0\n",
       "BUILDING CLASS AT PRESENT         0\n",
       "ADDRESS                           0\n",
       "ZIP CODE                          0\n",
       "RESIDENTIAL UNITS                 0\n",
       "COMMERCIAL UNITS                  0\n",
       "TOTAL UNITS                       0\n",
       "LAND SQUARE FEET                  0\n",
       "GROSS SQUARE FEET                 0\n",
       "YEAR BUILT                        0\n",
       "TAX CLASS AT TIME OF SALE         0\n",
       "BUILDING CLASS AT TIME OF SALE    0\n",
       "SALE PRICE                        0\n",
       "SALE DATE                         0\n",
       "dtype: int64"
      ]
     },
     "execution_count": 25,
     "metadata": {},
     "output_type": "execute_result"
    }
   ],
   "source": [
    "df.isnull().sum()"
   ]
  },
  {
   "cell_type": "code",
   "execution_count": 26,
   "id": "69d54733",
   "metadata": {},
   "outputs": [
    {
     "data": {
      "text/plain": [
       "(48244, 19)"
      ]
     },
     "execution_count": 26,
     "metadata": {},
     "output_type": "execute_result"
    }
   ],
   "source": [
    "df.shape"
   ]
  },
  {
   "cell_type": "markdown",
   "id": "1e3d21d5",
   "metadata": {},
   "source": [
    "#### Mengecek Duplicate Value"
   ]
  },
  {
   "cell_type": "code",
   "execution_count": 27,
   "id": "a8fc0c78",
   "metadata": {},
   "outputs": [
    {
     "data": {
      "text/plain": [
       "True"
      ]
     },
     "execution_count": 27,
     "metadata": {},
     "output_type": "execute_result"
    }
   ],
   "source": [
    "df.duplicated().any()"
   ]
  },
  {
   "cell_type": "code",
   "execution_count": 28,
   "id": "34157ad3",
   "metadata": {},
   "outputs": [
    {
     "data": {
      "text/plain": [
       "348"
      ]
     },
     "execution_count": 28,
     "metadata": {},
     "output_type": "execute_result"
    }
   ],
   "source": [
    "# jumlah duplikasi data\n",
    "df.duplicated().sum()"
   ]
  },
  {
   "cell_type": "code",
   "execution_count": 29,
   "id": "f243980b",
   "metadata": {},
   "outputs": [
    {
     "data": {
      "text/html": [
       "<div>\n",
       "<style scoped>\n",
       "    .dataframe tbody tr th:only-of-type {\n",
       "        vertical-align: middle;\n",
       "    }\n",
       "\n",
       "    .dataframe tbody tr th {\n",
       "        vertical-align: top;\n",
       "    }\n",
       "\n",
       "    .dataframe thead th {\n",
       "        text-align: right;\n",
       "    }\n",
       "</style>\n",
       "<table border=\"1\" class=\"dataframe\">\n",
       "  <thead>\n",
       "    <tr style=\"text-align: right;\">\n",
       "      <th></th>\n",
       "      <th>BOROUGH</th>\n",
       "      <th>NEIGHBORHOOD</th>\n",
       "      <th>BUILDING CLASS CATEGORY</th>\n",
       "      <th>TAX CLASS AT PRESENT</th>\n",
       "      <th>BLOCK</th>\n",
       "      <th>LOT</th>\n",
       "      <th>BUILDING CLASS AT PRESENT</th>\n",
       "      <th>ADDRESS</th>\n",
       "      <th>ZIP CODE</th>\n",
       "      <th>RESIDENTIAL UNITS</th>\n",
       "      <th>COMMERCIAL UNITS</th>\n",
       "      <th>TOTAL UNITS</th>\n",
       "      <th>LAND SQUARE FEET</th>\n",
       "      <th>GROSS SQUARE FEET</th>\n",
       "      <th>YEAR BUILT</th>\n",
       "      <th>TAX CLASS AT TIME OF SALE</th>\n",
       "      <th>BUILDING CLASS AT TIME OF SALE</th>\n",
       "      <th>SALE PRICE</th>\n",
       "      <th>SALE DATE</th>\n",
       "    </tr>\n",
       "  </thead>\n",
       "  <tbody>\n",
       "    <tr>\n",
       "      <th>0</th>\n",
       "      <td>1</td>\n",
       "      <td>ALPHABET CITY</td>\n",
       "      <td>07 RENTALS - WALKUP APARTMENTS</td>\n",
       "      <td>2A</td>\n",
       "      <td>392</td>\n",
       "      <td>6</td>\n",
       "      <td>C2</td>\n",
       "      <td>153 AVENUE B</td>\n",
       "      <td>10009</td>\n",
       "      <td>5</td>\n",
       "      <td>0</td>\n",
       "      <td>5</td>\n",
       "      <td>1633.0</td>\n",
       "      <td>6440.0</td>\n",
       "      <td>1900</td>\n",
       "      <td>2</td>\n",
       "      <td>C2</td>\n",
       "      <td>6625000.0</td>\n",
       "      <td>2017-07-19</td>\n",
       "    </tr>\n",
       "    <tr>\n",
       "      <th>3</th>\n",
       "      <td>1</td>\n",
       "      <td>ALPHABET CITY</td>\n",
       "      <td>07 RENTALS - WALKUP APARTMENTS</td>\n",
       "      <td>2B</td>\n",
       "      <td>402</td>\n",
       "      <td>21</td>\n",
       "      <td>C4</td>\n",
       "      <td>154 EAST 7TH STREET</td>\n",
       "      <td>10009</td>\n",
       "      <td>10</td>\n",
       "      <td>0</td>\n",
       "      <td>10</td>\n",
       "      <td>2272.0</td>\n",
       "      <td>6794.0</td>\n",
       "      <td>1913</td>\n",
       "      <td>2</td>\n",
       "      <td>C4</td>\n",
       "      <td>3936272.0</td>\n",
       "      <td>2016-09-23</td>\n",
       "    </tr>\n",
       "    <tr>\n",
       "      <th>4</th>\n",
       "      <td>1</td>\n",
       "      <td>ALPHABET CITY</td>\n",
       "      <td>07 RENTALS - WALKUP APARTMENTS</td>\n",
       "      <td>2A</td>\n",
       "      <td>404</td>\n",
       "      <td>55</td>\n",
       "      <td>C2</td>\n",
       "      <td>301 EAST 10TH   STREET</td>\n",
       "      <td>10009</td>\n",
       "      <td>6</td>\n",
       "      <td>0</td>\n",
       "      <td>6</td>\n",
       "      <td>2369.0</td>\n",
       "      <td>4615.0</td>\n",
       "      <td>1900</td>\n",
       "      <td>2</td>\n",
       "      <td>C2</td>\n",
       "      <td>8000000.0</td>\n",
       "      <td>2016-11-17</td>\n",
       "    </tr>\n",
       "    <tr>\n",
       "      <th>6</th>\n",
       "      <td>1</td>\n",
       "      <td>ALPHABET CITY</td>\n",
       "      <td>07 RENTALS - WALKUP APARTMENTS</td>\n",
       "      <td>2B</td>\n",
       "      <td>406</td>\n",
       "      <td>32</td>\n",
       "      <td>C4</td>\n",
       "      <td>210 AVENUE B</td>\n",
       "      <td>10009</td>\n",
       "      <td>8</td>\n",
       "      <td>0</td>\n",
       "      <td>8</td>\n",
       "      <td>1750.0</td>\n",
       "      <td>4226.0</td>\n",
       "      <td>1920</td>\n",
       "      <td>2</td>\n",
       "      <td>C4</td>\n",
       "      <td>3192840.0</td>\n",
       "      <td>2016-09-23</td>\n",
       "    </tr>\n",
       "    <tr>\n",
       "      <th>9</th>\n",
       "      <td>1</td>\n",
       "      <td>ALPHABET CITY</td>\n",
       "      <td>08 RENTALS - ELEVATOR APARTMENTS</td>\n",
       "      <td>2</td>\n",
       "      <td>387</td>\n",
       "      <td>153</td>\n",
       "      <td>D9</td>\n",
       "      <td>629 EAST 5TH STREET</td>\n",
       "      <td>10009</td>\n",
       "      <td>24</td>\n",
       "      <td>0</td>\n",
       "      <td>24</td>\n",
       "      <td>4489.0</td>\n",
       "      <td>18523.0</td>\n",
       "      <td>1920</td>\n",
       "      <td>2</td>\n",
       "      <td>D9</td>\n",
       "      <td>16232000.0</td>\n",
       "      <td>2016-11-07</td>\n",
       "    </tr>\n",
       "    <tr>\n",
       "      <th>...</th>\n",
       "      <td>...</td>\n",
       "      <td>...</td>\n",
       "      <td>...</td>\n",
       "      <td>...</td>\n",
       "      <td>...</td>\n",
       "      <td>...</td>\n",
       "      <td>...</td>\n",
       "      <td>...</td>\n",
       "      <td>...</td>\n",
       "      <td>...</td>\n",
       "      <td>...</td>\n",
       "      <td>...</td>\n",
       "      <td>...</td>\n",
       "      <td>...</td>\n",
       "      <td>...</td>\n",
       "      <td>...</td>\n",
       "      <td>...</td>\n",
       "      <td>...</td>\n",
       "      <td>...</td>\n",
       "    </tr>\n",
       "    <tr>\n",
       "      <th>84543</th>\n",
       "      <td>5</td>\n",
       "      <td>WOODROW</td>\n",
       "      <td>02 TWO FAMILY DWELLINGS</td>\n",
       "      <td>1</td>\n",
       "      <td>7349</td>\n",
       "      <td>34</td>\n",
       "      <td>B9</td>\n",
       "      <td>37 QUAIL LANE</td>\n",
       "      <td>10309</td>\n",
       "      <td>2</td>\n",
       "      <td>0</td>\n",
       "      <td>2</td>\n",
       "      <td>2400.0</td>\n",
       "      <td>2575.0</td>\n",
       "      <td>1998</td>\n",
       "      <td>1</td>\n",
       "      <td>B9</td>\n",
       "      <td>450000.0</td>\n",
       "      <td>2016-11-28</td>\n",
       "    </tr>\n",
       "    <tr>\n",
       "      <th>84544</th>\n",
       "      <td>5</td>\n",
       "      <td>WOODROW</td>\n",
       "      <td>02 TWO FAMILY DWELLINGS</td>\n",
       "      <td>1</td>\n",
       "      <td>7349</td>\n",
       "      <td>78</td>\n",
       "      <td>B9</td>\n",
       "      <td>32 PHEASANT LANE</td>\n",
       "      <td>10309</td>\n",
       "      <td>2</td>\n",
       "      <td>0</td>\n",
       "      <td>2</td>\n",
       "      <td>2498.0</td>\n",
       "      <td>2377.0</td>\n",
       "      <td>1998</td>\n",
       "      <td>1</td>\n",
       "      <td>B9</td>\n",
       "      <td>550000.0</td>\n",
       "      <td>2017-04-21</td>\n",
       "    </tr>\n",
       "    <tr>\n",
       "      <th>84545</th>\n",
       "      <td>5</td>\n",
       "      <td>WOODROW</td>\n",
       "      <td>02 TWO FAMILY DWELLINGS</td>\n",
       "      <td>1</td>\n",
       "      <td>7351</td>\n",
       "      <td>60</td>\n",
       "      <td>B2</td>\n",
       "      <td>49 PITNEY AVENUE</td>\n",
       "      <td>10309</td>\n",
       "      <td>2</td>\n",
       "      <td>0</td>\n",
       "      <td>2</td>\n",
       "      <td>4000.0</td>\n",
       "      <td>1496.0</td>\n",
       "      <td>1925</td>\n",
       "      <td>1</td>\n",
       "      <td>B2</td>\n",
       "      <td>460000.0</td>\n",
       "      <td>2017-07-05</td>\n",
       "    </tr>\n",
       "    <tr>\n",
       "      <th>84546</th>\n",
       "      <td>5</td>\n",
       "      <td>WOODROW</td>\n",
       "      <td>22 STORE BUILDINGS</td>\n",
       "      <td>4</td>\n",
       "      <td>7100</td>\n",
       "      <td>28</td>\n",
       "      <td>K6</td>\n",
       "      <td>2730 ARTHUR KILL ROAD</td>\n",
       "      <td>10309</td>\n",
       "      <td>0</td>\n",
       "      <td>7</td>\n",
       "      <td>7</td>\n",
       "      <td>208033.0</td>\n",
       "      <td>64117.0</td>\n",
       "      <td>2001</td>\n",
       "      <td>4</td>\n",
       "      <td>K6</td>\n",
       "      <td>11693337.0</td>\n",
       "      <td>2016-12-21</td>\n",
       "    </tr>\n",
       "    <tr>\n",
       "      <th>84547</th>\n",
       "      <td>5</td>\n",
       "      <td>WOODROW</td>\n",
       "      <td>35 INDOOR PUBLIC AND CULTURAL FACILITIES</td>\n",
       "      <td>4</td>\n",
       "      <td>7105</td>\n",
       "      <td>679</td>\n",
       "      <td>P9</td>\n",
       "      <td>155 CLAY PIT ROAD</td>\n",
       "      <td>10309</td>\n",
       "      <td>0</td>\n",
       "      <td>1</td>\n",
       "      <td>1</td>\n",
       "      <td>10796.0</td>\n",
       "      <td>2400.0</td>\n",
       "      <td>2006</td>\n",
       "      <td>4</td>\n",
       "      <td>P9</td>\n",
       "      <td>69300.0</td>\n",
       "      <td>2016-10-27</td>\n",
       "    </tr>\n",
       "  </tbody>\n",
       "</table>\n",
       "<p>47896 rows × 19 columns</p>\n",
       "</div>"
      ],
      "text/plain": [
       "       BOROUGH   NEIGHBORHOOD                      BUILDING CLASS CATEGORY  \\\n",
       "0            1  ALPHABET CITY  07 RENTALS - WALKUP APARTMENTS                \n",
       "3            1  ALPHABET CITY  07 RENTALS - WALKUP APARTMENTS                \n",
       "4            1  ALPHABET CITY  07 RENTALS - WALKUP APARTMENTS                \n",
       "6            1  ALPHABET CITY  07 RENTALS - WALKUP APARTMENTS                \n",
       "9            1  ALPHABET CITY  08 RENTALS - ELEVATOR APARTMENTS              \n",
       "...        ...            ...                                          ...   \n",
       "84543        5        WOODROW  02 TWO FAMILY DWELLINGS                       \n",
       "84544        5        WOODROW  02 TWO FAMILY DWELLINGS                       \n",
       "84545        5        WOODROW  02 TWO FAMILY DWELLINGS                       \n",
       "84546        5        WOODROW  22 STORE BUILDINGS                            \n",
       "84547        5        WOODROW  35 INDOOR PUBLIC AND CULTURAL FACILITIES      \n",
       "\n",
       "      TAX CLASS AT PRESENT  BLOCK  LOT BUILDING CLASS AT PRESENT  \\\n",
       "0                       2A    392    6                        C2   \n",
       "3                       2B    402   21                        C4   \n",
       "4                       2A    404   55                        C2   \n",
       "6                       2B    406   32                        C4   \n",
       "9                        2    387  153                        D9   \n",
       "...                    ...    ...  ...                       ...   \n",
       "84543                    1   7349   34                        B9   \n",
       "84544                    1   7349   78                        B9   \n",
       "84545                    1   7351   60                        B2   \n",
       "84546                    4   7100   28                        K6   \n",
       "84547                    4   7105  679                        P9   \n",
       "\n",
       "                      ADDRESS  ZIP CODE  RESIDENTIAL UNITS  COMMERCIAL UNITS  \\\n",
       "0                153 AVENUE B     10009                  5                 0   \n",
       "3         154 EAST 7TH STREET     10009                 10                 0   \n",
       "4      301 EAST 10TH   STREET     10009                  6                 0   \n",
       "6                210 AVENUE B     10009                  8                 0   \n",
       "9         629 EAST 5TH STREET     10009                 24                 0   \n",
       "...                       ...       ...                ...               ...   \n",
       "84543           37 QUAIL LANE     10309                  2                 0   \n",
       "84544        32 PHEASANT LANE     10309                  2                 0   \n",
       "84545        49 PITNEY AVENUE     10309                  2                 0   \n",
       "84546   2730 ARTHUR KILL ROAD     10309                  0                 7   \n",
       "84547       155 CLAY PIT ROAD     10309                  0                 1   \n",
       "\n",
       "       TOTAL UNITS  LAND SQUARE FEET  GROSS SQUARE FEET  YEAR BUILT  \\\n",
       "0                5            1633.0             6440.0        1900   \n",
       "3               10            2272.0             6794.0        1913   \n",
       "4                6            2369.0             4615.0        1900   \n",
       "6                8            1750.0             4226.0        1920   \n",
       "9               24            4489.0            18523.0        1920   \n",
       "...            ...               ...                ...         ...   \n",
       "84543            2            2400.0             2575.0        1998   \n",
       "84544            2            2498.0             2377.0        1998   \n",
       "84545            2            4000.0             1496.0        1925   \n",
       "84546            7          208033.0            64117.0        2001   \n",
       "84547            1           10796.0             2400.0        2006   \n",
       "\n",
       "      TAX CLASS AT TIME OF SALE BUILDING CLASS AT TIME OF SALE  SALE PRICE  \\\n",
       "0                             2                             C2   6625000.0   \n",
       "3                             2                             C4   3936272.0   \n",
       "4                             2                             C2   8000000.0   \n",
       "6                             2                             C4   3192840.0   \n",
       "9                             2                             D9  16232000.0   \n",
       "...                         ...                            ...         ...   \n",
       "84543                         1                             B9    450000.0   \n",
       "84544                         1                             B9    550000.0   \n",
       "84545                         1                             B2    460000.0   \n",
       "84546                         4                             K6  11693337.0   \n",
       "84547                         4                             P9     69300.0   \n",
       "\n",
       "       SALE DATE  \n",
       "0     2017-07-19  \n",
       "3     2016-09-23  \n",
       "4     2016-11-17  \n",
       "6     2016-09-23  \n",
       "9     2016-11-07  \n",
       "...          ...  \n",
       "84543 2016-11-28  \n",
       "84544 2017-04-21  \n",
       "84545 2017-07-05  \n",
       "84546 2016-12-21  \n",
       "84547 2016-10-27  \n",
       "\n",
       "[47896 rows x 19 columns]"
      ]
     },
     "execution_count": 29,
     "metadata": {},
     "output_type": "execute_result"
    }
   ],
   "source": [
    "# menghapus duplikasi data pada dataset \n",
    "df.drop_duplicates()"
   ]
  },
  {
   "cell_type": "code",
   "execution_count": 30,
   "id": "3c09cf80",
   "metadata": {},
   "outputs": [
    {
     "data": {
      "text/html": [
       "<div>\n",
       "<style scoped>\n",
       "    .dataframe tbody tr th:only-of-type {\n",
       "        vertical-align: middle;\n",
       "    }\n",
       "\n",
       "    .dataframe tbody tr th {\n",
       "        vertical-align: top;\n",
       "    }\n",
       "\n",
       "    .dataframe thead th {\n",
       "        text-align: right;\n",
       "    }\n",
       "</style>\n",
       "<table border=\"1\" class=\"dataframe\">\n",
       "  <thead>\n",
       "    <tr style=\"text-align: right;\">\n",
       "      <th></th>\n",
       "      <th>BOROUGH</th>\n",
       "      <th>NEIGHBORHOOD</th>\n",
       "      <th>BUILDING CLASS CATEGORY</th>\n",
       "      <th>TAX CLASS AT PRESENT</th>\n",
       "      <th>BLOCK</th>\n",
       "      <th>LOT</th>\n",
       "      <th>BUILDING CLASS AT PRESENT</th>\n",
       "      <th>ADDRESS</th>\n",
       "      <th>ZIP CODE</th>\n",
       "      <th>RESIDENTIAL UNITS</th>\n",
       "      <th>COMMERCIAL UNITS</th>\n",
       "      <th>TOTAL UNITS</th>\n",
       "      <th>LAND SQUARE FEET</th>\n",
       "      <th>GROSS SQUARE FEET</th>\n",
       "      <th>YEAR BUILT</th>\n",
       "      <th>TAX CLASS AT TIME OF SALE</th>\n",
       "      <th>BUILDING CLASS AT TIME OF SALE</th>\n",
       "      <th>SALE PRICE</th>\n",
       "      <th>SALE DATE</th>\n",
       "    </tr>\n",
       "  </thead>\n",
       "  <tbody>\n",
       "    <tr>\n",
       "      <th>0</th>\n",
       "      <td>1</td>\n",
       "      <td>ALPHABET CITY</td>\n",
       "      <td>07 RENTALS - WALKUP APARTMENTS</td>\n",
       "      <td>2A</td>\n",
       "      <td>392</td>\n",
       "      <td>6</td>\n",
       "      <td>C2</td>\n",
       "      <td>153 AVENUE B</td>\n",
       "      <td>10009</td>\n",
       "      <td>5</td>\n",
       "      <td>0</td>\n",
       "      <td>5</td>\n",
       "      <td>1633.0</td>\n",
       "      <td>6440.0</td>\n",
       "      <td>1900</td>\n",
       "      <td>2</td>\n",
       "      <td>C2</td>\n",
       "      <td>6625000.0</td>\n",
       "      <td>2017-07-19</td>\n",
       "    </tr>\n",
       "    <tr>\n",
       "      <th>1</th>\n",
       "      <td>1</td>\n",
       "      <td>ALPHABET CITY</td>\n",
       "      <td>07 RENTALS - WALKUP APARTMENTS</td>\n",
       "      <td>2B</td>\n",
       "      <td>402</td>\n",
       "      <td>21</td>\n",
       "      <td>C4</td>\n",
       "      <td>154 EAST 7TH STREET</td>\n",
       "      <td>10009</td>\n",
       "      <td>10</td>\n",
       "      <td>0</td>\n",
       "      <td>10</td>\n",
       "      <td>2272.0</td>\n",
       "      <td>6794.0</td>\n",
       "      <td>1913</td>\n",
       "      <td>2</td>\n",
       "      <td>C4</td>\n",
       "      <td>3936272.0</td>\n",
       "      <td>2016-09-23</td>\n",
       "    </tr>\n",
       "    <tr>\n",
       "      <th>2</th>\n",
       "      <td>1</td>\n",
       "      <td>ALPHABET CITY</td>\n",
       "      <td>07 RENTALS - WALKUP APARTMENTS</td>\n",
       "      <td>2A</td>\n",
       "      <td>404</td>\n",
       "      <td>55</td>\n",
       "      <td>C2</td>\n",
       "      <td>301 EAST 10TH   STREET</td>\n",
       "      <td>10009</td>\n",
       "      <td>6</td>\n",
       "      <td>0</td>\n",
       "      <td>6</td>\n",
       "      <td>2369.0</td>\n",
       "      <td>4615.0</td>\n",
       "      <td>1900</td>\n",
       "      <td>2</td>\n",
       "      <td>C2</td>\n",
       "      <td>8000000.0</td>\n",
       "      <td>2016-11-17</td>\n",
       "    </tr>\n",
       "    <tr>\n",
       "      <th>3</th>\n",
       "      <td>1</td>\n",
       "      <td>ALPHABET CITY</td>\n",
       "      <td>07 RENTALS - WALKUP APARTMENTS</td>\n",
       "      <td>2B</td>\n",
       "      <td>406</td>\n",
       "      <td>32</td>\n",
       "      <td>C4</td>\n",
       "      <td>210 AVENUE B</td>\n",
       "      <td>10009</td>\n",
       "      <td>8</td>\n",
       "      <td>0</td>\n",
       "      <td>8</td>\n",
       "      <td>1750.0</td>\n",
       "      <td>4226.0</td>\n",
       "      <td>1920</td>\n",
       "      <td>2</td>\n",
       "      <td>C4</td>\n",
       "      <td>3192840.0</td>\n",
       "      <td>2016-09-23</td>\n",
       "    </tr>\n",
       "    <tr>\n",
       "      <th>4</th>\n",
       "      <td>1</td>\n",
       "      <td>ALPHABET CITY</td>\n",
       "      <td>08 RENTALS - ELEVATOR APARTMENTS</td>\n",
       "      <td>2</td>\n",
       "      <td>387</td>\n",
       "      <td>153</td>\n",
       "      <td>D9</td>\n",
       "      <td>629 EAST 5TH STREET</td>\n",
       "      <td>10009</td>\n",
       "      <td>24</td>\n",
       "      <td>0</td>\n",
       "      <td>24</td>\n",
       "      <td>4489.0</td>\n",
       "      <td>18523.0</td>\n",
       "      <td>1920</td>\n",
       "      <td>2</td>\n",
       "      <td>D9</td>\n",
       "      <td>16232000.0</td>\n",
       "      <td>2016-11-07</td>\n",
       "    </tr>\n",
       "  </tbody>\n",
       "</table>\n",
       "</div>"
      ],
      "text/plain": [
       "   BOROUGH   NEIGHBORHOOD                      BUILDING CLASS CATEGORY  \\\n",
       "0        1  ALPHABET CITY  07 RENTALS - WALKUP APARTMENTS                \n",
       "1        1  ALPHABET CITY  07 RENTALS - WALKUP APARTMENTS                \n",
       "2        1  ALPHABET CITY  07 RENTALS - WALKUP APARTMENTS                \n",
       "3        1  ALPHABET CITY  07 RENTALS - WALKUP APARTMENTS                \n",
       "4        1  ALPHABET CITY  08 RENTALS - ELEVATOR APARTMENTS              \n",
       "\n",
       "  TAX CLASS AT PRESENT  BLOCK  LOT BUILDING CLASS AT PRESENT  \\\n",
       "0                   2A    392    6                        C2   \n",
       "1                   2B    402   21                        C4   \n",
       "2                   2A    404   55                        C2   \n",
       "3                   2B    406   32                        C4   \n",
       "4                    2    387  153                        D9   \n",
       "\n",
       "                  ADDRESS  ZIP CODE  RESIDENTIAL UNITS  COMMERCIAL UNITS  \\\n",
       "0            153 AVENUE B     10009                  5                 0   \n",
       "1     154 EAST 7TH STREET     10009                 10                 0   \n",
       "2  301 EAST 10TH   STREET     10009                  6                 0   \n",
       "3            210 AVENUE B     10009                  8                 0   \n",
       "4     629 EAST 5TH STREET     10009                 24                 0   \n",
       "\n",
       "   TOTAL UNITS  LAND SQUARE FEET  GROSS SQUARE FEET  YEAR BUILT  \\\n",
       "0            5            1633.0             6440.0        1900   \n",
       "1           10            2272.0             6794.0        1913   \n",
       "2            6            2369.0             4615.0        1900   \n",
       "3            8            1750.0             4226.0        1920   \n",
       "4           24            4489.0            18523.0        1920   \n",
       "\n",
       "  TAX CLASS AT TIME OF SALE BUILDING CLASS AT TIME OF SALE  SALE PRICE  \\\n",
       "0                         2                             C2   6625000.0   \n",
       "1                         2                             C4   3936272.0   \n",
       "2                         2                             C2   8000000.0   \n",
       "3                         2                             C4   3192840.0   \n",
       "4                         2                             D9  16232000.0   \n",
       "\n",
       "   SALE DATE  \n",
       "0 2017-07-19  \n",
       "1 2016-09-23  \n",
       "2 2016-11-17  \n",
       "3 2016-09-23  \n",
       "4 2016-11-07  "
      ]
     },
     "execution_count": 30,
     "metadata": {},
     "output_type": "execute_result"
    }
   ],
   "source": [
    "# Mengurutkan index setelah penghapusan\n",
    "df = df.drop_duplicates().reset_index(drop=True)\n",
    "df.head()"
   ]
  },
  {
   "cell_type": "code",
   "execution_count": 31,
   "id": "62cf64a7",
   "metadata": {},
   "outputs": [
    {
     "data": {
      "text/plain": [
       "(47896, 19)"
      ]
     },
     "execution_count": 31,
     "metadata": {},
     "output_type": "execute_result"
    }
   ],
   "source": [
    "df.shape"
   ]
  },
  {
   "cell_type": "markdown",
   "id": "9fb9ebc0",
   "metadata": {},
   "source": [
    "### Measure of Central Tendency"
   ]
  },
  {
   "cell_type": "markdown",
   "id": "078300ff",
   "metadata": {},
   "source": [
    "#### Mean"
   ]
  },
  {
   "cell_type": "code",
   "execution_count": 32,
   "id": "aad5fe14",
   "metadata": {},
   "outputs": [
    {
     "name": "stdout",
     "output_type": "stream",
     "text": [
      "Mean dari data Total Units :  2.791318690496075\n",
      "Mean dari data Sale Price :  1158309.9487222314\n",
      "Mean dari data Land Square Feet :  3270.9037706697845\n",
      "Mean dari data Gross Square Feet :  3525.874749457157\n"
     ]
    }
   ],
   "source": [
    "mean_total_unit = statistics.mean(df['TOTAL UNITS'])\n",
    "mean_saleprice = statistics.mean(df['SALE PRICE'])\n",
    "mean_landsq = statistics.mean(df['LAND SQUARE FEET'])\n",
    "mean_grosssq = statistics.mean(df['GROSS SQUARE FEET'])\n",
    "\n",
    "print(\"Mean dari data Total Units : \", mean_total_unit)\n",
    "print(\"Mean dari data Sale Price : \", mean_saleprice)\n",
    "print(\"Mean dari data Land Square Feet : \", mean_landsq)\n",
    "print(\"Mean dari data Gross Square Feet : \", mean_grosssq)"
   ]
  },
  {
   "cell_type": "markdown",
   "id": "87532312",
   "metadata": {},
   "source": [
    "#### Median"
   ]
  },
  {
   "cell_type": "code",
   "execution_count": 33,
   "id": "da275e72",
   "metadata": {},
   "outputs": [],
   "source": [
    "median_total_unit = statistics.median(df['TOTAL UNITS'])\n",
    "median_sale_price = statistics.median(df['SALE PRICE'])\n",
    "median_land_square_feet = statistics.median(df['LAND SQUARE FEET'])\n",
    "median_gross_square_feet = statistics.median(df['GROSS SQUARE FEET'])"
   ]
  },
  {
   "cell_type": "code",
   "execution_count": 34,
   "id": "114f31b1",
   "metadata": {},
   "outputs": [
    {
     "name": "stdout",
     "output_type": "stream",
     "text": [
      "Median dari data Total Units : 1.0\n",
      "Median dari data Sale Price : 485000.0\n",
      "Median dari data Land Square Feet : 2133.0\n",
      "Median dari data Gross Square Feet : 1620.0\n"
     ]
    }
   ],
   "source": [
    "print(\"Median dari data Total Units :\", median_total_unit)\n",
    "print(\"Median dari data Sale Price :\", median_sale_price)\n",
    "print(\"Median dari data Land Square Feet :\", median_land_square_feet)\n",
    "print(\"Median dari data Gross Square Feet :\", median_gross_square_feet)"
   ]
  },
  {
   "cell_type": "markdown",
   "id": "9693b173",
   "metadata": {},
   "source": [
    "### Modus"
   ]
  },
  {
   "cell_type": "code",
   "execution_count": 35,
   "id": "cea152f9",
   "metadata": {},
   "outputs": [
    {
     "name": "stderr",
     "output_type": "stream",
     "text": [
      "C:\\Users\\Lenovo\\AppData\\Local\\Temp\\ipykernel_4284\\1604487067.py:1: FutureWarning: Unlike other reduction functions (e.g. `skew`, `kurtosis`), the default behavior of `mode` typically preserves the axis it acts along. In SciPy 1.11.0, this behavior will change: the default value of `keepdims` will become False, the `axis` over which the statistic is taken will be eliminated, and the value None will no longer be accepted. Set `keepdims` to True or False to avoid this warning.\n",
      "  Borough = scipy.stats.mode(df['BOROUGH'])\n"
     ]
    },
    {
     "data": {
      "text/plain": [
       "ModeResult(mode=array([3], dtype=int64), count=array([23843]))"
      ]
     },
     "execution_count": 35,
     "metadata": {},
     "output_type": "execute_result"
    }
   ],
   "source": [
    "Borough = scipy.stats.mode(df['BOROUGH'])\n",
    "Borough"
   ]
  },
  {
   "cell_type": "markdown",
   "id": "e0e66360",
   "metadata": {},
   "source": [
    "Keterangan: Manhattan (1), Bronx (2), Brooklyn (3), Queens (4), and Staten Island (5)\n",
    "\n",
    "Modus Borough adalah Brooklyn dengan total 23843"
   ]
  },
  {
   "cell_type": "code",
   "execution_count": 37,
   "id": "e18f5d17",
   "metadata": {},
   "outputs": [
    {
     "name": "stderr",
     "output_type": "stream",
     "text": [
      "C:\\Users\\Lenovo\\AppData\\Local\\Temp\\ipykernel_4284\\3825398808.py:1: FutureWarning: Unlike other reduction functions (e.g. `skew`, `kurtosis`), the default behavior of `mode` typically preserves the axis it acts along. In SciPy 1.11.0, this behavior will change: the default value of `keepdims` will become False, the `axis` over which the statistic is taken will be eliminated, and the value None will no longer be accepted. Set `keepdims` to True or False to avoid this warning.\n",
      "  Neighborhood = scipy.stats.mode(df['NEIGHBORHOOD'])\n",
      "C:\\Users\\Lenovo\\AppData\\Local\\Temp\\ipykernel_4284\\3825398808.py:1: DeprecationWarning: Support for non-numeric arrays has been deprecated as of SciPy 1.9.0 and will be removed in 1.11.0. `pandas.DataFrame.mode` can be used instead, see https://pandas.pydata.org/docs/reference/api/pandas.DataFrame.mode.html.\n",
      "  Neighborhood = scipy.stats.mode(df['NEIGHBORHOOD'])\n"
     ]
    },
    {
     "data": {
      "text/plain": [
       "ModeResult(mode=array(['BEDFORD STUYVESANT'], dtype=object), count=array([1429]))"
      ]
     },
     "execution_count": 37,
     "metadata": {},
     "output_type": "execute_result"
    }
   ],
   "source": [
    "Neighborhood = scipy.stats.mode(df['NEIGHBORHOOD'])\n",
    "Neighborhood"
   ]
  },
  {
   "cell_type": "markdown",
   "id": "6d69a31f",
   "metadata": {},
   "source": [
    "Modus Neighborhood adalah BEDFORD STUYVESANT dengan total 1429"
   ]
  },
  {
   "cell_type": "code",
   "execution_count": 38,
   "id": "859070b3",
   "metadata": {},
   "outputs": [
    {
     "name": "stderr",
     "output_type": "stream",
     "text": [
      "C:\\Users\\Lenovo\\AppData\\Local\\Temp\\ipykernel_4284\\3798624229.py:1: FutureWarning: Unlike other reduction functions (e.g. `skew`, `kurtosis`), the default behavior of `mode` typically preserves the axis it acts along. In SciPy 1.11.0, this behavior will change: the default value of `keepdims` will become False, the `axis` over which the statistic is taken will be eliminated, and the value None will no longer be accepted. Set `keepdims` to True or False to avoid this warning.\n",
      "  BCC = scipy.stats.mode(df['BUILDING CLASS CATEGORY'])\n",
      "C:\\Users\\Lenovo\\AppData\\Local\\Temp\\ipykernel_4284\\3798624229.py:1: DeprecationWarning: Support for non-numeric arrays has been deprecated as of SciPy 1.9.0 and will be removed in 1.11.0. `pandas.DataFrame.mode` can be used instead, see https://pandas.pydata.org/docs/reference/api/pandas.DataFrame.mode.html.\n",
      "  BCC = scipy.stats.mode(df['BUILDING CLASS CATEGORY'])\n"
     ]
    },
    {
     "data": {
      "text/plain": [
       "ModeResult(mode=array(['01 ONE FAMILY DWELLINGS                    '], dtype=object), count=array([14336]))"
      ]
     },
     "execution_count": 38,
     "metadata": {},
     "output_type": "execute_result"
    }
   ],
   "source": [
    "BCC = scipy.stats.mode(df['BUILDING CLASS CATEGORY'])\n",
    "BCC"
   ]
  },
  {
   "cell_type": "markdown",
   "id": "3ae8a677",
   "metadata": {},
   "source": [
    "### Measure of Spread"
   ]
  },
  {
   "cell_type": "markdown",
   "id": "ee0b239a",
   "metadata": {},
   "source": [
    "#### Range"
   ]
  },
  {
   "cell_type": "code",
   "execution_count": 39,
   "id": "bd8e6c87",
   "metadata": {},
   "outputs": [],
   "source": [
    "total_unit = df['TOTAL UNITS']\n",
    "sale_price = df['SALE PRICE']\n",
    "land_square_feet= df['LAND SQUARE FEET']\n",
    "gross_square_feet = df['GROSS SQUARE FEET']\n",
    "\n",
    "# np.ptp() = Range of values (maximum - minimum) along an axis.\n",
    "range_total_unit = np.ptp(total_unit)\n",
    "range_sale_price = np.ptp(sale_price)\n",
    "range_land_square_feet = np.ptp(land_square_feet)\n",
    "range_gross_square_feet = np.ptp(gross_square_feet)"
   ]
  },
  {
   "cell_type": "code",
   "execution_count": 40,
   "id": "6d0c2561",
   "metadata": {},
   "outputs": [
    {
     "name": "stdout",
     "output_type": "stream",
     "text": [
      "Range dari data Total Units : 2261\n",
      "Range dari data Sale Price : 2210000000.0\n",
      "Range dari data Land Square Feet : 4228300.0\n",
      "Range dari data Gross Square Feet : 3750565.0\n"
     ]
    }
   ],
   "source": [
    "print(\"Range dari data Total Units :\", range_total_unit)\n",
    "print(\"Range dari data Sale Price :\", range_sale_price)\n",
    "print(\"Range dari data Land Square Feet :\", range_land_square_feet)\n",
    "print(\"Range dari data Gross Square Feet :\", range_gross_square_feet)"
   ]
  },
  {
   "cell_type": "markdown",
   "id": "00b0a42b",
   "metadata": {},
   "source": [
    "### Variance"
   ]
  },
  {
   "cell_type": "code",
   "execution_count": 41,
   "id": "28b55e29",
   "metadata": {},
   "outputs": [],
   "source": [
    "variance_total_unit = statistics.variance(df['TOTAL UNITS'])\n",
    "variance_sale_price = statistics.variance(df['SALE PRICE'])\n",
    "variance_land_square_feet = statistics.variance(df['LAND SQUARE FEET'])\n",
    "variance_gross_square_feet = statistics.variance(df['GROSS SQUARE FEET'])"
   ]
  },
  {
   "cell_type": "code",
   "execution_count": 60,
   "id": "73ebe59f",
   "metadata": {},
   "outputs": [
    {
     "name": "stdout",
     "output_type": "stream",
     "text": [
      "varian dari data Total Units :  417.2964031801129\n",
      "varian dari data Sale Price :  180704673693780.22\n",
      "Varian dari data Land Square Feet :  933292915.5861255\n",
      "Varian dari data Gross Square Feet :  852938213.028325\n"
     ]
    }
   ],
   "source": [
    "print(\"varian dari data Total Units : \", variance_total_unit)\n",
    "print(\"varian dari data Sale Price : \", variance_sale_price)\n",
    "print(\"Varian dari data Land Square Feet : \", variance_land_square_feet)\n",
    "print(\"Varian dari data Gross Square Feet : \", variance_gross_square_feet)"
   ]
  },
  {
   "cell_type": "markdown",
   "id": "d47ecdbd",
   "metadata": {},
   "source": [
    "### Standard Deviation"
   ]
  },
  {
   "cell_type": "code",
   "execution_count": 42,
   "id": "a8090027",
   "metadata": {},
   "outputs": [],
   "source": [
    "std_total_unit = statistics.stdev(df['TOTAL UNITS'])\n",
    "std_sale_price = statistics.stdev(df['SALE PRICE'])\n",
    "std_land_square_feet = statistics.stdev(df['LAND SQUARE FEET'])\n",
    "std_gross_square_feet = statistics.stdev(df['GROSS SQUARE FEET'])"
   ]
  },
  {
   "cell_type": "code",
   "execution_count": 61,
   "id": "ac00b76a",
   "metadata": {},
   "outputs": [
    {
     "name": "stdout",
     "output_type": "stream",
     "text": [
      "Standar Deviasi dari data Total Units :  20.427834030560188\n",
      "Standar Deviasi dari data Sale Price :  13442643.850589072\n",
      "Standar Deviasi dari data Land Square Feet :  30549.843135213076\n",
      "Standar Deviasi dari data Gross Square Feet :  29205.10594105635\n"
     ]
    }
   ],
   "source": [
    "print(\"Standar Deviasi dari data Total Units : \", std_total_unit)\n",
    "print(\"Standar Deviasi dari data Sale Price : \", std_sale_price)\n",
    "print(\"Standar Deviasi dari data Land Square Feet : \", std_land_square_feet)\n",
    "print(\"Standar Deviasi dari data Gross Square Feet : \", std_gross_square_feet)\n"
   ]
  },
  {
   "cell_type": "markdown",
   "id": "79e4e75c",
   "metadata": {},
   "source": [
    "### Probability Distribution"
   ]
  },
  {
   "cell_type": "code",
   "execution_count": 43,
   "id": "ea19d99d",
   "metadata": {},
   "outputs": [
    {
     "data": {
      "text/plain": [
       "<seaborn.axisgrid.FacetGrid at 0x1bc870bde40>"
      ]
     },
     "execution_count": 43,
     "metadata": {},
     "output_type": "execute_result"
    },
    {
     "data": {
      "image/png": "[encoded data removed]",
      "text/plain": [
       "<Figure size 500x500 with 1 Axes>"
      ]
     },
     "metadata": {},
     "output_type": "display_data"
    }
   ],
   "source": [
    "sns.displot(df['SALE PRICE'], bins=40, rug=True)"
   ]
  },
  {
   "cell_type": "code",
   "execution_count": null,
   "id": "7c8c7b75",
   "metadata": {},
   "outputs": [],
   "source": []
  },
  {
   "cell_type": "code",
   "execution_count": 63,
   "id": "0f58440e",
   "metadata": {},
   "outputs": [
    {
     "name": "stderr",
     "output_type": "stream",
     "text": [
      "C:\\Users\\Lenovo\\AppData\\Local\\Temp\\ipykernel_4284\\2404006613.py:3: UserWarning: \n",
      "\n",
      "`distplot` is a deprecated function and will be removed in seaborn v0.14.0.\n",
      "\n",
      "Please adapt your code to use either `displot` (a figure-level function with\n",
      "similar flexibility) or `histplot` (an axes-level function for histograms).\n",
      "\n",
      "For a guide to updating your code to use the new functions, please see\n",
      "https://gist.github.com/mwaskom/de44147ed2974457ad6372750bbe5751\n",
      "\n",
      "  ax = sns.distplot(data_sale_price, bins=80, kde=True,rug=True, color=\"blue\")\n"
     ]
    },
    {
     "data": {
      "image/png": "[encoded data removed]",
      "text/plain": [
       "<Figure size 640x480 with 1 Axes>"
      ]
     },
     "metadata": {},
     "output_type": "display_data"
    }
   ],
   "source": [
    "# Mengambil data Sale Price dengan rentang harga 100 hingga 7000000\n",
    "data_sale_price = df[(df[\"SALE PRICE\"] > 100) & (df[\"SALE PRICE\"] < 7000000)][\"SALE PRICE\"]\n",
    "ax = sns.distplot(data_sale_price, bins=80, kde=True,rug=True, color=\"blue\")"
   ]
  },
  {
   "cell_type": "markdown",
   "id": "39753f90",
   "metadata": {},
   "source": [
    "### Confidence Intervals"
   ]
  },
  {
   "cell_type": "markdown",
   "id": "bec6f964",
   "metadata": {},
   "source": [
    "Berdasarkan data analisis sebelumnya, diperoleh rata-rata Sale Price untuk property di New York yaitu 1.158.309 dan wilayah yang paling sering muncul yaitu wilayah Brooklyn.\n",
    "\n",
    "Pertanyaan: Bagaimana CI untuk proporsi property terjual dengan sale price > 1.500.000 (harga lebih tinggi dari harga rata-rata) yang berlokasi di wilayah Brooklyn?"
   ]
  },
  {
   "cell_type": "code",
   "execution_count": 45,
   "id": "62818f55",
   "metadata": {},
   "outputs": [
    {
     "data": {
      "text/html": [
       "<div>\n",
       "<style scoped>\n",
       "    .dataframe tbody tr th:only-of-type {\n",
       "        vertical-align: middle;\n",
       "    }\n",
       "\n",
       "    .dataframe tbody tr th {\n",
       "        vertical-align: top;\n",
       "    }\n",
       "\n",
       "    .dataframe thead th {\n",
       "        text-align: right;\n",
       "    }\n",
       "</style>\n",
       "<table border=\"1\" class=\"dataframe\">\n",
       "  <thead>\n",
       "    <tr style=\"text-align: right;\">\n",
       "      <th></th>\n",
       "      <th>BOROUGH</th>\n",
       "      <th>SALE PRICE</th>\n",
       "    </tr>\n",
       "  </thead>\n",
       "  <tbody>\n",
       "    <tr>\n",
       "      <th>0</th>\n",
       "      <td>1</td>\n",
       "      <td>6625000.0</td>\n",
       "    </tr>\n",
       "    <tr>\n",
       "      <th>1</th>\n",
       "      <td>1</td>\n",
       "      <td>3936272.0</td>\n",
       "    </tr>\n",
       "    <tr>\n",
       "      <th>2</th>\n",
       "      <td>1</td>\n",
       "      <td>8000000.0</td>\n",
       "    </tr>\n",
       "    <tr>\n",
       "      <th>3</th>\n",
       "      <td>1</td>\n",
       "      <td>3192840.0</td>\n",
       "    </tr>\n",
       "    <tr>\n",
       "      <th>4</th>\n",
       "      <td>1</td>\n",
       "      <td>16232000.0</td>\n",
       "    </tr>\n",
       "    <tr>\n",
       "      <th>...</th>\n",
       "      <td>...</td>\n",
       "      <td>...</td>\n",
       "    </tr>\n",
       "    <tr>\n",
       "      <th>47891</th>\n",
       "      <td>5</td>\n",
       "      <td>450000.0</td>\n",
       "    </tr>\n",
       "    <tr>\n",
       "      <th>47892</th>\n",
       "      <td>5</td>\n",
       "      <td>550000.0</td>\n",
       "    </tr>\n",
       "    <tr>\n",
       "      <th>47893</th>\n",
       "      <td>5</td>\n",
       "      <td>460000.0</td>\n",
       "    </tr>\n",
       "    <tr>\n",
       "      <th>47894</th>\n",
       "      <td>5</td>\n",
       "      <td>11693337.0</td>\n",
       "    </tr>\n",
       "    <tr>\n",
       "      <th>47895</th>\n",
       "      <td>5</td>\n",
       "      <td>69300.0</td>\n",
       "    </tr>\n",
       "  </tbody>\n",
       "</table>\n",
       "<p>47896 rows × 2 columns</p>\n",
       "</div>"
      ],
      "text/plain": [
       "       BOROUGH  SALE PRICE\n",
       "0            1   6625000.0\n",
       "1            1   3936272.0\n",
       "2            1   8000000.0\n",
       "3            1   3192840.0\n",
       "4            1  16232000.0\n",
       "...        ...         ...\n",
       "47891        5    450000.0\n",
       "47892        5    550000.0\n",
       "47893        5    460000.0\n",
       "47894        5  11693337.0\n",
       "47895        5     69300.0\n",
       "\n",
       "[47896 rows x 2 columns]"
      ]
     },
     "execution_count": 45,
     "metadata": {},
     "output_type": "execute_result"
    }
   ],
   "source": [
    "df_sale_price = df[['BOROUGH','SALE PRICE']]\n",
    "df_sale_price"
   ]
  },
  {
   "cell_type": "code",
   "execution_count": 46,
   "id": "558836cb",
   "metadata": {},
   "outputs": [
    {
     "data": {
      "text/plain": [
       "2729"
      ]
     },
     "execution_count": 46,
     "metadata": {},
     "output_type": "execute_result"
    }
   ],
   "source": [
    "total = df_sale_price[\n",
    "    (df_sale_price['SALE PRICE'] > 1500000) \n",
    "    & (df_sale_price['BOROUGH'] == 3)].count()\n",
    "\n",
    "total = total['BOROUGH']\n",
    "total"
   ]
  },
  {
   "cell_type": "code",
   "execution_count": 47,
   "id": "fe1655c8",
   "metadata": {},
   "outputs": [
    {
     "data": {
      "text/plain": [
       "4474"
      ]
     },
     "execution_count": 47,
     "metadata": {},
     "output_type": "execute_result"
    }
   ],
   "source": [
    "total_1 = df_sale_price[df_sale_price['SALE PRICE'] > 1500000].count()\n",
    "\n",
    "total_1 = total_1['SALE PRICE']\n",
    "total_1"
   ]
  },
  {
   "cell_type": "code",
   "execution_count": 48,
   "id": "1a4ff8ab",
   "metadata": {},
   "outputs": [
    {
     "data": {
      "text/plain": [
       "0.6099687080911935"
      ]
     },
     "execution_count": 48,
     "metadata": {},
     "output_type": "execute_result"
    }
   ],
   "source": [
    "# Proporsi property dengan sale price > 1500000 di wilayah brooklyn\n",
    "Proporsi_Property = total / total_1\n",
    "Proporsi_Property"
   ]
  },
  {
   "cell_type": "code",
   "execution_count": 49,
   "id": "5c0436e4",
   "metadata": {},
   "outputs": [
    {
     "data": {
      "text/plain": [
       "0.009336879112295674"
      ]
     },
     "execution_count": 49,
     "metadata": {},
     "output_type": "execute_result"
    }
   ],
   "source": [
    "# Untuk menghitung standard error\n",
    "n = total_1\n",
    "standard_error = np.sqrt(Proporsi_Property * (1 - Proporsi_Property) / total)\n",
    "standard_error"
   ]
  },
  {
   "cell_type": "code",
   "execution_count": 50,
   "id": "ccb67090",
   "metadata": {},
   "outputs": [
    {
     "data": {
      "text/plain": [
       "(0.591668425031094, 0.6282689911512931)"
      ]
     },
     "execution_count": 50,
     "metadata": {},
     "output_type": "execute_result"
    }
   ],
   "source": [
    "# Untuk membuat Confidence interval dengan z-score 1.96 untuk confidence interval 95%\n",
    "z_score = 1.96\n",
    "lb = Proporsi_Property - z_score* standard_error # lower bound CI\n",
    "ub = Proporsi_Property + z_score* standard_error # upper bound CI\n",
    "lb, ub"
   ]
  },
  {
   "cell_type": "markdown",
   "id": "6408729b",
   "metadata": {},
   "source": [
    "Dari perhitungan diatas, diperoleh Confidence interval untuk proporsi property dengan sale price > 1.500.000 yang berlokasi di wilayah Brooklyn adalah di rentang 0.59 sampai dengan 0.62"
   ]
  },
  {
   "cell_type": "markdown",
   "id": "66a05da5",
   "metadata": {},
   "source": [
    "#### Hypothesis Testing"
   ]
  },
  {
   "cell_type": "markdown",
   "id": "7caa24fa",
   "metadata": {},
   "source": [
    "Pertanyaan: Apakah ada perbedaan unit terjual antara property yang dibangun tahun 1900 - 2000 dan tahun 2001 ke atas?\n",
    "\n",
    "    A. Population:\n",
    "\n",
    "    Total Units in NYC Property Sales Dataset\n",
    "    \n",
    "    B. Parameter of Interest:\n",
    "\n",
    "    μ1 − μ2\n",
    "    \n",
    "    Year Built\n",
    "    \n",
    "    C. Taraf signifikansi :\n",
    "\n",
    "    alpha = 5% = 0.05\n",
    "    \n",
    "    D. Hypothesis :\n",
    "\n",
    "    H0 (Null Hypothesis) : μ1 = μ2 yang berarti tidak terdapat perbedaan unit terjual antara property yang dibangun tahun 1900 - 2000 dan tahun 2001 ke atas\n",
    "    \n",
    "    H1 (Alternative Hypthosis) : μ1 ≠ μ2 yang berarti terdapat perbedaan unit terjual antara property yang dibangun tahun 1900 - 2000 dan tahun 2001 ke atas)"
   ]
  },
  {
   "cell_type": "code",
   "execution_count": 51,
   "id": "03727673",
   "metadata": {},
   "outputs": [
    {
     "data": {
      "text/html": [
       "<div>\n",
       "<style scoped>\n",
       "    .dataframe tbody tr th:only-of-type {\n",
       "        vertical-align: middle;\n",
       "    }\n",
       "\n",
       "    .dataframe tbody tr th {\n",
       "        vertical-align: top;\n",
       "    }\n",
       "\n",
       "    .dataframe thead th {\n",
       "        text-align: right;\n",
       "    }\n",
       "</style>\n",
       "<table border=\"1\" class=\"dataframe\">\n",
       "  <thead>\n",
       "    <tr style=\"text-align: right;\">\n",
       "      <th></th>\n",
       "      <th>TOTAL UNITS</th>\n",
       "      <th>YEAR BUILT</th>\n",
       "    </tr>\n",
       "  </thead>\n",
       "  <tbody>\n",
       "    <tr>\n",
       "      <th>0</th>\n",
       "      <td>5</td>\n",
       "      <td>1900</td>\n",
       "    </tr>\n",
       "    <tr>\n",
       "      <th>1</th>\n",
       "      <td>10</td>\n",
       "      <td>1913</td>\n",
       "    </tr>\n",
       "    <tr>\n",
       "      <th>2</th>\n",
       "      <td>6</td>\n",
       "      <td>1900</td>\n",
       "    </tr>\n",
       "    <tr>\n",
       "      <th>3</th>\n",
       "      <td>8</td>\n",
       "      <td>1920</td>\n",
       "    </tr>\n",
       "    <tr>\n",
       "      <th>4</th>\n",
       "      <td>24</td>\n",
       "      <td>1920</td>\n",
       "    </tr>\n",
       "  </tbody>\n",
       "</table>\n",
       "</div>"
      ],
      "text/plain": [
       "   TOTAL UNITS  YEAR BUILT\n",
       "0            5        1900\n",
       "1           10        1913\n",
       "2            6        1900\n",
       "3            8        1920\n",
       "4           24        1920"
      ]
     },
     "execution_count": 51,
     "metadata": {},
     "output_type": "execute_result"
    }
   ],
   "source": [
    "df_total_unit = df[['TOTAL UNITS','YEAR BUILT']]\n",
    "df_total_unit.head()\n"
   ]
  },
  {
   "cell_type": "code",
   "execution_count": 52,
   "id": "8c6d14cd",
   "metadata": {},
   "outputs": [
    {
     "name": "stderr",
     "output_type": "stream",
     "text": [
      "C:\\Users\\Lenovo\\AppData\\Local\\Temp\\ipykernel_4284\\3177092413.py:1: SettingWithCopyWarning: \n",
      "A value is trying to be set on a copy of a slice from a DataFrame.\n",
      "Try using .loc[row_indexer,col_indexer] = value instead\n",
      "\n",
      "See the caveats in the documentation: https://pandas.pydata.org/pandas-docs/stable/user_guide/indexing.html#returning-a-view-versus-a-copy\n",
      "  df_total_unit[\"YEAR BUILT\"] = df[\"YEAR BUILT\"].astype(\"int\")\n"
     ]
    },
    {
     "data": {
      "text/html": [
       "<div>\n",
       "<style scoped>\n",
       "    .dataframe tbody tr th:only-of-type {\n",
       "        vertical-align: middle;\n",
       "    }\n",
       "\n",
       "    .dataframe tbody tr th {\n",
       "        vertical-align: top;\n",
       "    }\n",
       "\n",
       "    .dataframe thead th {\n",
       "        text-align: right;\n",
       "    }\n",
       "</style>\n",
       "<table border=\"1\" class=\"dataframe\">\n",
       "  <thead>\n",
       "    <tr style=\"text-align: right;\">\n",
       "      <th></th>\n",
       "      <th>TOTAL UNITS</th>\n",
       "      <th>YEAR BUILT</th>\n",
       "    </tr>\n",
       "  </thead>\n",
       "  <tbody>\n",
       "    <tr>\n",
       "      <th>0</th>\n",
       "      <td>5</td>\n",
       "      <td>1900</td>\n",
       "    </tr>\n",
       "    <tr>\n",
       "      <th>1</th>\n",
       "      <td>10</td>\n",
       "      <td>1913</td>\n",
       "    </tr>\n",
       "    <tr>\n",
       "      <th>2</th>\n",
       "      <td>6</td>\n",
       "      <td>1900</td>\n",
       "    </tr>\n",
       "    <tr>\n",
       "      <th>3</th>\n",
       "      <td>8</td>\n",
       "      <td>1920</td>\n",
       "    </tr>\n",
       "    <tr>\n",
       "      <th>4</th>\n",
       "      <td>24</td>\n",
       "      <td>1920</td>\n",
       "    </tr>\n",
       "  </tbody>\n",
       "</table>\n",
       "</div>"
      ],
      "text/plain": [
       "   TOTAL UNITS  YEAR BUILT\n",
       "0            5        1900\n",
       "1           10        1913\n",
       "2            6        1900\n",
       "3            8        1920\n",
       "4           24        1920"
      ]
     },
     "execution_count": 52,
     "metadata": {},
     "output_type": "execute_result"
    }
   ],
   "source": [
    "df_total_unit[\"YEAR BUILT\"] = df[\"YEAR BUILT\"].astype(\"int\")\n",
    "df_kurang = df_total_unit[\n",
    "    (df_total_unit['YEAR BUILT'] > 1899) &\n",
    "    (df_total_unit['YEAR BUILT'] < 2001)]\n",
    "df_kurang.head()"
   ]
  },
  {
   "cell_type": "code",
   "execution_count": 53,
   "id": "fae54f50",
   "metadata": {},
   "outputs": [
    {
     "data": {
      "text/html": [
       "<div>\n",
       "<style scoped>\n",
       "    .dataframe tbody tr th:only-of-type {\n",
       "        vertical-align: middle;\n",
       "    }\n",
       "\n",
       "    .dataframe tbody tr th {\n",
       "        vertical-align: top;\n",
       "    }\n",
       "\n",
       "    .dataframe thead th {\n",
       "        text-align: right;\n",
       "    }\n",
       "</style>\n",
       "<table border=\"1\" class=\"dataframe\">\n",
       "  <thead>\n",
       "    <tr style=\"text-align: right;\">\n",
       "      <th></th>\n",
       "      <th>TOTAL UNITS</th>\n",
       "      <th>YEAR BUILT</th>\n",
       "    </tr>\n",
       "  </thead>\n",
       "  <tbody>\n",
       "    <tr>\n",
       "      <th>5</th>\n",
       "      <td>10</td>\n",
       "      <td>2009</td>\n",
       "    </tr>\n",
       "    <tr>\n",
       "      <th>28</th>\n",
       "      <td>7</td>\n",
       "      <td>2014</td>\n",
       "    </tr>\n",
       "    <tr>\n",
       "      <th>29</th>\n",
       "      <td>32</td>\n",
       "      <td>2014</td>\n",
       "    </tr>\n",
       "    <tr>\n",
       "      <th>38</th>\n",
       "      <td>1</td>\n",
       "      <td>2013</td>\n",
       "    </tr>\n",
       "    <tr>\n",
       "      <th>46</th>\n",
       "      <td>1</td>\n",
       "      <td>2010</td>\n",
       "    </tr>\n",
       "  </tbody>\n",
       "</table>\n",
       "</div>"
      ],
      "text/plain": [
       "    TOTAL UNITS  YEAR BUILT\n",
       "5            10        2009\n",
       "28            7        2014\n",
       "29           32        2014\n",
       "38            1        2013\n",
       "46            1        2010"
      ]
     },
     "execution_count": 53,
     "metadata": {},
     "output_type": "execute_result"
    }
   ],
   "source": [
    "# Data year built pada tahun 2001 keatas\n",
    "df_lebih = df_total_unit[(df_total_unit['YEAR BUILT'] > 2001)]\n",
    "df_lebih.head()"
   ]
  },
  {
   "cell_type": "code",
   "execution_count": 54,
   "id": "e32579b4",
   "metadata": {},
   "outputs": [
    {
     "data": {
      "text/plain": [
       "(37169, 3.0776453496193064, 22.806259711196752)"
      ]
     },
     "execution_count": 54,
     "metadata": {},
     "output_type": "execute_result"
    }
   ],
   "source": [
    "n1 = len(df_kurang)\n",
    "mean1 = df_kurang[\"TOTAL UNITS\"].mean()\n",
    "std1 = df_kurang[\"TOTAL UNITS\"].std()\n",
    "\n",
    "(n1, mean1, std1)"
   ]
  },
  {
   "cell_type": "code",
   "execution_count": 55,
   "id": "84e88e55",
   "metadata": {},
   "outputs": [
    {
     "data": {
      "text/plain": [
       "(5836, 2.2028786840301575, 9.447204050761233)"
      ]
     },
     "execution_count": 55,
     "metadata": {},
     "output_type": "execute_result"
    }
   ],
   "source": [
    "n2 = len(df_lebih)\n",
    "mean2 = df_lebih[\"TOTAL UNITS\"].mean()\n",
    "std2 = df_lebih[\"TOTAL UNITS\"].std()\n",
    "\n",
    "(n2, mean2, std2)"
   ]
  },
  {
   "cell_type": "code",
   "execution_count": 56,
   "id": "cc7ca6be",
   "metadata": {},
   "outputs": [
    {
     "data": {
      "text/plain": [
       "(2.8914745196374447, 0.003834386842291403)"
      ]
     },
     "execution_count": 56,
     "metadata": {},
     "output_type": "execute_result"
    }
   ],
   "source": [
    "sm.stats.ztest(df_kurang[\"TOTAL UNITS\"], df_lebih[\"TOTAL UNITS\"], alternative='two-sided')"
   ]
  },
  {
   "cell_type": "markdown",
   "id": "443497c7",
   "metadata": {},
   "source": [
    "Syarat penolakan H0 :\n",
    "\n",
    "H0 ditolak jika nilai p-value < alpha = 0.05\n",
    "Keputusan :\n",
    "\n",
    "H0 ditolak karena nilai p-value = 0.003834386842291403 < alpha = 0.05\n",
    "Kesimpulan :\n",
    "\n",
    "Pada taraf signifikansi alpha yaitu 5% dengan nilai p-value = 0.003834386842291403 < alpha = 0.05, maka kita dapat menolak H0 sehingga kita mendapatkan suatu perbedaan unit yang terjual pada property yang dibangun tahun 1900 - 2000 dan tahun 2001 keatas yaitu nilai rata-rata unit yang terjual pada property yang dibangun pada tahun 1900 - 2000 tidak sama dengan property yang dibangun pada tahun 2001 keatas\n"
   ]
  },
  {
   "cell_type": "markdown",
   "id": "4346c4b5",
   "metadata": {},
   "source": [
    "#### Analisis dan statistik dari dataset tersebut :\n",
    "\n",
    "1.Total Units\n",
    "\n",
    "Mean : 2.791318690496075\n",
    "    \n",
    "Median : 1.0\n",
    "    \n",
    "Range : 2261\n",
    "    \n",
    "Varian : 417.2964031801129\n",
    "    \n",
    "Standar Deviasi : 20.427834030560188\n",
    "    \n",
    "2.Sale Price\n",
    "\n",
    "Mean : 1158309.9487222314\n",
    "    \n",
    "Median : 485000.0\n",
    "    \n",
    "Range : 2210000000.0\n",
    "    \n",
    "Varian : 180704673693780.22\n",
    "    \n",
    "Standar Deviasi : 13442643.850589072\n",
    "    \n",
    "3.Land Square Feet\n",
    "\n",
    "Mean : 3270.9037706697845\n",
    "    \n",
    "Median : 2133.0\n",
    "    \n",
    "Range : 4228300.0\n",
    "    \n",
    "Varian : 933292915.5861255\n",
    "    \n",
    "Standar Deviasi : 30549.843135213076\n",
    "    \n",
    "4.Gross Square Feet\n",
    "\n",
    "Mean : 3525.874749457157\n",
    "    \n",
    "Median : 1620.0\n",
    "    \n",
    "Range : 3750565.0\n",
    "    \n",
    "Varian : 852938213.028325\n",
    "    \n",
    "Standar Deviasi : 29205.10594105635\n",
    "    \n",
    "#### Modus\n",
    "\n",
    "-Data borough (wilayah) yang paling banyak muncul yaitu wilayah Brooklyn sebanyak 23.843\n",
    "\n",
    "-Data Neighborhood yang paling banyak muncul yaitu Bedford Stuyvesant sebanyak 1.429\n",
    "\n",
    "-Building Class Category (kategori bangunan) yang paling banyak muncul yaitu 01 ONE FAMILY DWELLINGS sebanyak 14.336\n",
    "\n",
    "#### Probability Distribution\n",
    "\n",
    "-Plot data sale price menunjukkan persebaran data yang tidak baik karena terdapat banyak data Sale Price dengan nilai kecil ($0) sehingga nilai-nilai data kecil tersebut dihilangkan untuk melihat distribusi datanya.*\n",
    "\n",
    "-Berdasarkan plot yang diambil dari data Sale Price dari 100 - 7000000 dapat disimpulkan bahwa data Sale Price dari 100 - 7000000 berdistribusi normal*\n",
    "\n",
    "#### Confidence Interval\n",
    "\n",
    "-Berdasarkan data analisis yang telah dilakukan di atas, diperoleh rata-rata Sale Price untuk property di New York yaitu 1.158.309 dan wilayah yang paling sering muncul yaitu wilayah Brooklyn.\n",
    "\n",
    "-Melalui perhitungan yang telah saya hitung di atas, diperoleh Confidence interval untuk proporsi property dengan sale price > 1.500.000 yang berlokasi di wilayah Brooklyn adalah di rentang 0.59 sampai dengan 0.62\n",
    "\n",
    "#### Hypothesis Testing\n",
    "\n",
    "Pada taraf signifikansi alpha yaitu 5% dengan nilai p-value = 0.003834386842291403 < alpha = 0.05, maka kita dapat menolak H0 sehingga kita mendapatkan suatu perbedaan unit yang terjual pada property yang dibangun tahun 1900 - 2000 dan tahun 2001 keatas yaitu nilai rata-rata unit yang terjual pada property yang dibangun pada tahun 1900 - 2000 tidak sama dengan property yang dibangun pada tahun 2001 keatas*"
   ]
  }
 ],
 "metadata": {
  "kernelspec": {
   "display_name": "Python 3 (ipykernel)",
   "language": "python",
   "name": "python3"
  },
  "language_info": {
   "codemirror_mode": {
    "name": "ipython",
    "version": 3
   },
   "file_extension": ".py",
   "mimetype": "text/x-python",
   "name": "python",
   "nbconvert_exporter": "python",
   "pygments_lexer": "ipython3",
   "version": "3.10.9"
  }
 },
 "nbformat": 4,
 "nbformat_minor": 5
}
